{
 "cells": [
  {
   "cell_type": "code",
   "execution_count": 2,
   "id": "35c888e1-2138-4205-8077-d7a2d707b561",
   "metadata": {},
   "outputs": [],
   "source": [
    "import numpy as np\n",
    "import pandas as pd\n",
    "import matplotlib.pyplot as plt \n",
    "import seaborn as sns"
   ]
  },
  {
   "cell_type": "markdown",
   "id": "1cc30b39-a6ea-46c8-a01d-aa27bd8123cd",
   "metadata": {},
   "source": [
    "## Data Wrangling"
   ]
  },
  {
   "cell_type": "markdown",
   "id": "f38203b2-16f8-40dd-b844-7b11df758505",
   "metadata": {},
   "source": [
    "### Gathering Data"
   ]
  },
  {
   "cell_type": "markdown",
   "id": "ac874290-a09d-4553-bb61-da09bf0a2286",
   "metadata": {},
   "source": [
    "#### Dataset Ayam"
   ]
  },
  {
   "cell_type": "code",
   "execution_count": 3,
   "id": "0dc1bb04-304e-4df0-bdf8-dccc387718aa",
   "metadata": {},
   "outputs": [
    {
     "data": {
      "text/html": [
       "<div>\n",
       "<style scoped>\n",
       "    .dataframe tbody tr th:only-of-type {\n",
       "        vertical-align: middle;\n",
       "    }\n",
       "\n",
       "    .dataframe tbody tr th {\n",
       "        vertical-align: top;\n",
       "    }\n",
       "\n",
       "    .dataframe thead th {\n",
       "        text-align: right;\n",
       "    }\n",
       "</style>\n",
       "<table border=\"1\" class=\"dataframe\">\n",
       "  <thead>\n",
       "    <tr style=\"text-align: right;\">\n",
       "      <th></th>\n",
       "      <th>Title</th>\n",
       "      <th>Ingredients</th>\n",
       "      <th>Steps</th>\n",
       "      <th>Loves</th>\n",
       "      <th>URL</th>\n",
       "    </tr>\n",
       "  </thead>\n",
       "  <tbody>\n",
       "    <tr>\n",
       "      <th>0</th>\n",
       "      <td>Ayam Woku Manado</td>\n",
       "      <td>1 Ekor Ayam Kampung (potong 12)--2 Buah Jeruk ...</td>\n",
       "      <td>Cuci bersih ayam dan tiriskan. Lalu peras jeru...</td>\n",
       "      <td>1</td>\n",
       "      <td>/id/resep/4473027-ayam-woku-manado</td>\n",
       "    </tr>\n",
       "    <tr>\n",
       "      <th>1</th>\n",
       "      <td>Ayam goreng tulang lunak</td>\n",
       "      <td>1 kg ayam (dipotong sesuai selera jangan kecil...</td>\n",
       "      <td>Haluskan bumbu2nya (BaPut, ketumbar, kemiri, k...</td>\n",
       "      <td>1</td>\n",
       "      <td>/id/resep/4471956-ayam-goreng-tulang-lunak</td>\n",
       "    </tr>\n",
       "    <tr>\n",
       "      <th>2</th>\n",
       "      <td>Ayam cabai kawin</td>\n",
       "      <td>1/4 kg ayam--3 buah cabai hijau besar--7 buah ...</td>\n",
       "      <td>Panaskan minyak di dalam wajan. Setelah minyak...</td>\n",
       "      <td>2</td>\n",
       "      <td>/id/resep/4473057-ayam-cabai-kawin</td>\n",
       "    </tr>\n",
       "    <tr>\n",
       "      <th>3</th>\n",
       "      <td>Ayam Geprek</td>\n",
       "      <td>250 gr daging ayam (saya pakai fillet)--Secuku...</td>\n",
       "      <td>Goreng ayam seperti ayam krispi--Ulek semua ba...</td>\n",
       "      <td>10</td>\n",
       "      <td>/id/resep/4473023-ayam-geprek</td>\n",
       "    </tr>\n",
       "    <tr>\n",
       "      <th>4</th>\n",
       "      <td>Minyak Ayam</td>\n",
       "      <td>400 gr kulit ayam &amp; lemaknya--8 siung bawang p...</td>\n",
       "      <td>Cuci bersih kulit ayam. Sisihkan--Ambil 50 ml ...</td>\n",
       "      <td>4</td>\n",
       "      <td>/id/resep/4427438-minyak-ayam</td>\n",
       "    </tr>\n",
       "    <tr>\n",
       "      <th>5</th>\n",
       "      <td>Nasi Bakar Ayam</td>\n",
       "      <td>1 piring nasi--¹/⁴ fillet ayam, potong kotak, ...</td>\n",
       "      <td>Tumis bumbu halus, masukkan daun salam, serai-...</td>\n",
       "      <td>1</td>\n",
       "      <td>/id/resep/4472552-nasi-bakar-ayam</td>\n",
       "    </tr>\n",
       "    <tr>\n",
       "      <th>6</th>\n",
       "      <td>Ayam Saus Hintalu Jaruk</td>\n",
       "      <td>1/2 Ekor ayam--2 Butir Hintalu Jaruk--1 Buah C...</td>\n",
       "      <td>Potong ayam menjadi kotak-kotak ukuran sedang ...</td>\n",
       "      <td>0</td>\n",
       "      <td>/id/resep/4437475-ayam-saus-hintalu-jaruk</td>\n",
       "    </tr>\n",
       "    <tr>\n",
       "      <th>7</th>\n",
       "      <td>Ayam saos teriyaki Lada Hitam</td>\n",
       "      <td>Ayam bagian dada dan tulang--1 buah bawang bom...</td>\n",
       "      <td>Cara Buat :\\n1. Sediakan teplon or wajan beri ...</td>\n",
       "      <td>0</td>\n",
       "      <td>/id/resep/4472877-ayam-saos-teriyaki-lada-hitam</td>\n",
       "    </tr>\n",
       "    <tr>\n",
       "      <th>8</th>\n",
       "      <td>Steak ayam</td>\n",
       "      <td>300 gr dada ayam fillet--1 sdm air jeruk nipis...</td>\n",
       "      <td>Cuci bersih ayam, iris tipis melebar, rendam d...</td>\n",
       "      <td>6</td>\n",
       "      <td>/id/resep/4472822-steak-ayam</td>\n",
       "    </tr>\n",
       "    <tr>\n",
       "      <th>9</th>\n",
       "      <td>Ayam Saos Asam Manis Simple</td>\n",
       "      <td>1/4 kg Ayam bagian dada fillet (Potong dadu)--...</td>\n",
       "      <td>Lumuri ayam yg sdh dipotong dadu dgn garam &amp; p...</td>\n",
       "      <td>6</td>\n",
       "      <td>/id/resep/4472901-ayam-saos-asam-manis-simple</td>\n",
       "    </tr>\n",
       "  </tbody>\n",
       "</table>\n",
       "</div>"
      ],
      "text/plain": [
       "                           Title  \\\n",
       "0               Ayam Woku Manado   \n",
       "1       Ayam goreng tulang lunak   \n",
       "2               Ayam cabai kawin   \n",
       "3                    Ayam Geprek   \n",
       "4                    Minyak Ayam   \n",
       "5                Nasi Bakar Ayam   \n",
       "6        Ayam Saus Hintalu Jaruk   \n",
       "7  Ayam saos teriyaki Lada Hitam   \n",
       "8                     Steak ayam   \n",
       "9    Ayam Saos Asam Manis Simple   \n",
       "\n",
       "                                         Ingredients  \\\n",
       "0  1 Ekor Ayam Kampung (potong 12)--2 Buah Jeruk ...   \n",
       "1  1 kg ayam (dipotong sesuai selera jangan kecil...   \n",
       "2  1/4 kg ayam--3 buah cabai hijau besar--7 buah ...   \n",
       "3  250 gr daging ayam (saya pakai fillet)--Secuku...   \n",
       "4  400 gr kulit ayam & lemaknya--8 siung bawang p...   \n",
       "5  1 piring nasi--¹/⁴ fillet ayam, potong kotak, ...   \n",
       "6  1/2 Ekor ayam--2 Butir Hintalu Jaruk--1 Buah C...   \n",
       "7  Ayam bagian dada dan tulang--1 buah bawang bom...   \n",
       "8  300 gr dada ayam fillet--1 sdm air jeruk nipis...   \n",
       "9  1/4 kg Ayam bagian dada fillet (Potong dadu)--...   \n",
       "\n",
       "                                               Steps  Loves  \\\n",
       "0  Cuci bersih ayam dan tiriskan. Lalu peras jeru...      1   \n",
       "1  Haluskan bumbu2nya (BaPut, ketumbar, kemiri, k...      1   \n",
       "2  Panaskan minyak di dalam wajan. Setelah minyak...      2   \n",
       "3  Goreng ayam seperti ayam krispi--Ulek semua ba...     10   \n",
       "4  Cuci bersih kulit ayam. Sisihkan--Ambil 50 ml ...      4   \n",
       "5  Tumis bumbu halus, masukkan daun salam, serai-...      1   \n",
       "6  Potong ayam menjadi kotak-kotak ukuran sedang ...      0   \n",
       "7  Cara Buat :\\n1. Sediakan teplon or wajan beri ...      0   \n",
       "8  Cuci bersih ayam, iris tipis melebar, rendam d...      6   \n",
       "9  Lumuri ayam yg sdh dipotong dadu dgn garam & p...      6   \n",
       "\n",
       "                                               URL  \n",
       "0               /id/resep/4473027-ayam-woku-manado  \n",
       "1       /id/resep/4471956-ayam-goreng-tulang-lunak  \n",
       "2               /id/resep/4473057-ayam-cabai-kawin  \n",
       "3                    /id/resep/4473023-ayam-geprek  \n",
       "4                    /id/resep/4427438-minyak-ayam  \n",
       "5                /id/resep/4472552-nasi-bakar-ayam  \n",
       "6        /id/resep/4437475-ayam-saus-hintalu-jaruk  \n",
       "7  /id/resep/4472877-ayam-saos-teriyaki-lada-hitam  \n",
       "8                     /id/resep/4472822-steak-ayam  \n",
       "9    /id/resep/4472901-ayam-saos-asam-manis-simple  "
      ]
     },
     "execution_count": 3,
     "metadata": {},
     "output_type": "execute_result"
    }
   ],
   "source": [
    "ayam = pd.read_csv(\"dataset-ayam.csv\")\n",
    "ayam.head(10)"
   ]
  },
  {
   "cell_type": "markdown",
   "id": "4b975d9b-e3fa-4eb1-b1f2-e0c2189859b6",
   "metadata": {},
   "source": [
    "#### Dataset Ikan"
   ]
  },
  {
   "cell_type": "code",
   "execution_count": 4,
   "id": "7a8e4f78-a988-4191-a108-cbe855b53bfd",
   "metadata": {},
   "outputs": [
    {
     "data": {
      "text/html": [
       "<div>\n",
       "<style scoped>\n",
       "    .dataframe tbody tr th:only-of-type {\n",
       "        vertical-align: middle;\n",
       "    }\n",
       "\n",
       "    .dataframe tbody tr th {\n",
       "        vertical-align: top;\n",
       "    }\n",
       "\n",
       "    .dataframe thead th {\n",
       "        text-align: right;\n",
       "    }\n",
       "</style>\n",
       "<table border=\"1\" class=\"dataframe\">\n",
       "  <thead>\n",
       "    <tr style=\"text-align: right;\">\n",
       "      <th></th>\n",
       "      <th>Title</th>\n",
       "      <th>Ingredients</th>\n",
       "      <th>Steps</th>\n",
       "      <th>Loves</th>\n",
       "      <th>URL</th>\n",
       "    </tr>\n",
       "  </thead>\n",
       "  <tbody>\n",
       "    <tr>\n",
       "      <th>0</th>\n",
       "      <td>Gurame Saus Padang</td>\n",
       "      <td>Bahan utama:--1 ekor gurame--Bumbu untuk saus:...</td>\n",
       "      <td>Cuci bersih ikan gurame yang akan dimasak. Set...</td>\n",
       "      <td>2</td>\n",
       "      <td>/id/resep/4474009-gurame-saus-padang</td>\n",
       "    </tr>\n",
       "    <tr>\n",
       "      <th>1</th>\n",
       "      <td>Ikan Kembung Bakar Teflon</td>\n",
       "      <td>1/2 kg ikan kembung sate, bersihkan--1 buah je...</td>\n",
       "      <td>Kucuri ikan dengan jeruk, diamkan 5 menit--Lum...</td>\n",
       "      <td>2</td>\n",
       "      <td>/id/resep/4474225-ikan-kembung-bakar-teflon</td>\n",
       "    </tr>\n",
       "    <tr>\n",
       "      <th>2</th>\n",
       "      <td>Mujaer asam pedas manis</td>\n",
       "      <td>1/2 kg ikan mujaer (stok gurame habis)--2 buah...</td>\n",
       "      <td>Bersihkan ikan sampai benar-benar bersih. Kera...</td>\n",
       "      <td>1</td>\n",
       "      <td>/id/resep/4473689-mujaer-asam-pedas-manis</td>\n",
       "    </tr>\n",
       "    <tr>\n",
       "      <th>3</th>\n",
       "      <td>Gurame Asam manis</td>\n",
       "      <td>1/2 kg ikan gurame--2 buah wortel (potong sepe...</td>\n",
       "      <td>Uleg kunir sama garam kasih air lalu guraminya...</td>\n",
       "      <td>5</td>\n",
       "      <td>/id/resep/4473428-gurame-asam-manis</td>\n",
       "    </tr>\n",
       "    <tr>\n",
       "      <th>4</th>\n",
       "      <td>Asam padeh ikan tuna</td>\n",
       "      <td>1/2 kg ikan tuna--6 siung bawang merah--4 siun...</td>\n",
       "      <td>Haluskan bumbu (cabai merah, kemiri, bawang, k...</td>\n",
       "      <td>7</td>\n",
       "      <td>/id/resep/4473138-asam-padeh-ikan-tuna</td>\n",
       "    </tr>\n",
       "    <tr>\n",
       "      <th>5</th>\n",
       "      <td>Avocado Tuna Salad</td>\n",
       "      <td>1 kaleng Tuna Chunks--2 butir telur rebus--3 b...</td>\n",
       "      <td>Campur semuanya dalam baskom, kecuali biji zai...</td>\n",
       "      <td>0</td>\n",
       "      <td>/id/resep/4473223-avocado-tuna-salad</td>\n",
       "    </tr>\n",
       "    <tr>\n",
       "      <th>6</th>\n",
       "      <td>Lele Asam Manis</td>\n",
       "      <td>1/2 kg Lele Segar--180 ml air--3 sdm kecap man...</td>\n",
       "      <td>Cuci bersihbikan, lalu goreng ikan lele agak m...</td>\n",
       "      <td>0</td>\n",
       "      <td>/id/resep/4473217-lele-asam-manis</td>\n",
       "    </tr>\n",
       "    <tr>\n",
       "      <th>7</th>\n",
       "      <td>Pempek kulit ikan tenggiri</td>\n",
       "      <td>500 gr kulit ikan tenggiri halu--200 cc air ma...</td>\n",
       "      <td>Aduk ikan tambahkan air sedikit demi sedikit b...</td>\n",
       "      <td>6</td>\n",
       "      <td>/id/resep/4472657-pempek-kulit-ikan-tenggiri</td>\n",
       "    </tr>\n",
       "    <tr>\n",
       "      <th>8</th>\n",
       "      <td>Tumis Tongkol Petai</td>\n",
       "      <td>2 bungkus tongkol--2 cabe gendot--2 papan peta...</td>\n",
       "      <td>Cuci bersih ikan tongkol, goreng sebentar--Iri...</td>\n",
       "      <td>6</td>\n",
       "      <td>/id/resep/4472513-tumis-tongkol-petai</td>\n",
       "    </tr>\n",
       "    <tr>\n",
       "      <th>9</th>\n",
       "      <td>Ikan Patin pedas manis</td>\n",
       "      <td>500 gr ikan patin--5 siung bawang merah iris t...</td>\n",
       "      <td>Ikan patin yang sudah dicuci bersih, dilumuri ...</td>\n",
       "      <td>0</td>\n",
       "      <td>/id/resep/4472909-ikan-patin-pedas-manis</td>\n",
       "    </tr>\n",
       "  </tbody>\n",
       "</table>\n",
       "</div>"
      ],
      "text/plain": [
       "                        Title  \\\n",
       "0          Gurame Saus Padang   \n",
       "1   Ikan Kembung Bakar Teflon   \n",
       "2     Mujaer asam pedas manis   \n",
       "3           Gurame Asam manis   \n",
       "4        Asam padeh ikan tuna   \n",
       "5          Avocado Tuna Salad   \n",
       "6             Lele Asam Manis   \n",
       "7  Pempek kulit ikan tenggiri   \n",
       "8         Tumis Tongkol Petai   \n",
       "9      Ikan Patin pedas manis   \n",
       "\n",
       "                                         Ingredients  \\\n",
       "0  Bahan utama:--1 ekor gurame--Bumbu untuk saus:...   \n",
       "1  1/2 kg ikan kembung sate, bersihkan--1 buah je...   \n",
       "2  1/2 kg ikan mujaer (stok gurame habis)--2 buah...   \n",
       "3  1/2 kg ikan gurame--2 buah wortel (potong sepe...   \n",
       "4  1/2 kg ikan tuna--6 siung bawang merah--4 siun...   \n",
       "5  1 kaleng Tuna Chunks--2 butir telur rebus--3 b...   \n",
       "6  1/2 kg Lele Segar--180 ml air--3 sdm kecap man...   \n",
       "7  500 gr kulit ikan tenggiri halu--200 cc air ma...   \n",
       "8  2 bungkus tongkol--2 cabe gendot--2 papan peta...   \n",
       "9  500 gr ikan patin--5 siung bawang merah iris t...   \n",
       "\n",
       "                                               Steps  Loves  \\\n",
       "0  Cuci bersih ikan gurame yang akan dimasak. Set...      2   \n",
       "1  Kucuri ikan dengan jeruk, diamkan 5 menit--Lum...      2   \n",
       "2  Bersihkan ikan sampai benar-benar bersih. Kera...      1   \n",
       "3  Uleg kunir sama garam kasih air lalu guraminya...      5   \n",
       "4  Haluskan bumbu (cabai merah, kemiri, bawang, k...      7   \n",
       "5  Campur semuanya dalam baskom, kecuali biji zai...      0   \n",
       "6  Cuci bersihbikan, lalu goreng ikan lele agak m...      0   \n",
       "7  Aduk ikan tambahkan air sedikit demi sedikit b...      6   \n",
       "8  Cuci bersih ikan tongkol, goreng sebentar--Iri...      6   \n",
       "9  Ikan patin yang sudah dicuci bersih, dilumuri ...      0   \n",
       "\n",
       "                                            URL  \n",
       "0          /id/resep/4474009-gurame-saus-padang  \n",
       "1   /id/resep/4474225-ikan-kembung-bakar-teflon  \n",
       "2     /id/resep/4473689-mujaer-asam-pedas-manis  \n",
       "3           /id/resep/4473428-gurame-asam-manis  \n",
       "4        /id/resep/4473138-asam-padeh-ikan-tuna  \n",
       "5          /id/resep/4473223-avocado-tuna-salad  \n",
       "6             /id/resep/4473217-lele-asam-manis  \n",
       "7  /id/resep/4472657-pempek-kulit-ikan-tenggiri  \n",
       "8         /id/resep/4472513-tumis-tongkol-petai  \n",
       "9      /id/resep/4472909-ikan-patin-pedas-manis  "
      ]
     },
     "execution_count": 4,
     "metadata": {},
     "output_type": "execute_result"
    }
   ],
   "source": [
    "ikan = pd.read_csv(\"dataset-ikan.csv\")\n",
    "ikan.head(10)"
   ]
  },
  {
   "cell_type": "markdown",
   "id": "d808bec0-c4c1-40ef-812f-fb1ab3a995e9",
   "metadata": {},
   "source": [
    "#### Dataset Kambing"
   ]
  },
  {
   "cell_type": "code",
   "execution_count": 5,
   "id": "95ade4ad-06a3-430a-8690-e6294e6032b5",
   "metadata": {},
   "outputs": [
    {
     "data": {
      "text/html": [
       "<div>\n",
       "<style scoped>\n",
       "    .dataframe tbody tr th:only-of-type {\n",
       "        vertical-align: middle;\n",
       "    }\n",
       "\n",
       "    .dataframe tbody tr th {\n",
       "        vertical-align: top;\n",
       "    }\n",
       "\n",
       "    .dataframe thead th {\n",
       "        text-align: right;\n",
       "    }\n",
       "</style>\n",
       "<table border=\"1\" class=\"dataframe\">\n",
       "  <thead>\n",
       "    <tr style=\"text-align: right;\">\n",
       "      <th></th>\n",
       "      <th>Title</th>\n",
       "      <th>Ingredients</th>\n",
       "      <th>Steps</th>\n",
       "      <th>Loves</th>\n",
       "      <th>URL</th>\n",
       "    </tr>\n",
       "  </thead>\n",
       "  <tbody>\n",
       "    <tr>\n",
       "      <th>0</th>\n",
       "      <td>.Sate Kambing</td>\n",
       "      <td>Bahan-bahan :--500 gr Daging kambing--Daun pep...</td>\n",
       "      <td>1. Cuci bersih daging kambing, potong\" kotak, ...</td>\n",
       "      <td>6</td>\n",
       "      <td>/id/resep/4470066-sate-kambing</td>\n",
       "    </tr>\n",
       "    <tr>\n",
       "      <th>1</th>\n",
       "      <td>Rabeg Kambing</td>\n",
       "      <td>1 kg daging kambing bagian paha beserta tulang...</td>\n",
       "      <td>Tumis bumbu halus hingga harum. Masukan bumbu ...</td>\n",
       "      <td>6</td>\n",
       "      <td>/id/resep/4469170-rabeg-kambing</td>\n",
       "    </tr>\n",
       "    <tr>\n",
       "      <th>2</th>\n",
       "      <td>Gulai kambing</td>\n",
       "      <td>500 gram daging kambing--Bumbu :--sesuai seler...</td>\n",
       "      <td>Rebus dgng kambing dgn jahe krng lbh 20 menit ...</td>\n",
       "      <td>0</td>\n",
       "      <td>/id/resep/4467084-gulai-kambing</td>\n",
       "    </tr>\n",
       "    <tr>\n",
       "      <th>3</th>\n",
       "      <td>Sayur tulang kambing</td>\n",
       "      <td>1.5 kg tulang sumsum kambing(direbus dahulu)ag...</td>\n",
       "      <td>Haluskan bawang merah 5 siung dan 5 bawang put...</td>\n",
       "      <td>1</td>\n",
       "      <td>/id/resep/4458778-sayur-tulang-kambing</td>\n",
       "    </tr>\n",
       "    <tr>\n",
       "      <th>4</th>\n",
       "      <td>Sate Kambing</td>\n",
       "      <td>300 garam daging kambing--1/2 buah jeruk nipis...</td>\n",
       "      <td>Potong daging kambing sesuai selera, beri pera...</td>\n",
       "      <td>7</td>\n",
       "      <td>/id/resep/4462884-sate-kambing</td>\n",
       "    </tr>\n",
       "    <tr>\n",
       "      <th>5</th>\n",
       "      <td>Sop Kaki Kambing</td>\n",
       "      <td>4 kaki kambing--2-3 buah kentang, potpng dadu ...</td>\n",
       "      <td>Bakar kaki kambing utk menghilangkan bulu2 hal...</td>\n",
       "      <td>9</td>\n",
       "      <td>/id/resep/4447258-sop-kaki-kambing</td>\n",
       "    </tr>\n",
       "    <tr>\n",
       "      <th>6</th>\n",
       "      <td>Kari kambing ala bundo</td>\n",
       "      <td>Daging kambing ½ kg, potong-potong, lumuri den...</td>\n",
       "      <td>Tumis hingga harum bawang merah iris, bawang p...</td>\n",
       "      <td>1</td>\n",
       "      <td>/id/resep/4376163-kari-kambing-ala-bundo</td>\n",
       "    </tr>\n",
       "    <tr>\n",
       "      <th>7</th>\n",
       "      <td>Tongseng kambing presto</td>\n",
       "      <td>250 gram iga kambing / daging kambing--200 gra...</td>\n",
       "      <td>Potong daging kambing sesuai selera, cuci bers...</td>\n",
       "      <td>9</td>\n",
       "      <td>/id/resep/4442026-tongseng-kambing-presto</td>\n",
       "    </tr>\n",
       "    <tr>\n",
       "      <th>8</th>\n",
       "      <td>Telor dadar otak kambing</td>\n",
       "      <td>Otak kambing--2 butir telor ayam--Penyedap mas...</td>\n",
       "      <td>Cuci otak. Kambing smpe bersih cuci semua bumb...</td>\n",
       "      <td>1</td>\n",
       "      <td>/id/resep/4435937-telor-dadar-otak-kambing</td>\n",
       "    </tr>\n",
       "    <tr>\n",
       "      <th>9</th>\n",
       "      <td>Sate kambing siram sambal bawang kecap</td>\n",
       "      <td>Bumbu daging--1 kg daging kambing--1,5 sdt ket...</td>\n",
       "      <td>Potong2 daging lalu masukkan bumbu daging...di...</td>\n",
       "      <td>1</td>\n",
       "      <td>/id/resep/4415488-sate-kambing-siram-sambal-ba...</td>\n",
       "    </tr>\n",
       "  </tbody>\n",
       "</table>\n",
       "</div>"
      ],
      "text/plain": [
       "                                    Title  \\\n",
       "0                           .Sate Kambing   \n",
       "1                           Rabeg Kambing   \n",
       "2                           Gulai kambing   \n",
       "3                    Sayur tulang kambing   \n",
       "4                            Sate Kambing   \n",
       "5                        Sop Kaki Kambing   \n",
       "6                  Kari kambing ala bundo   \n",
       "7                 Tongseng kambing presto   \n",
       "8                Telor dadar otak kambing   \n",
       "9  Sate kambing siram sambal bawang kecap   \n",
       "\n",
       "                                         Ingredients  \\\n",
       "0  Bahan-bahan :--500 gr Daging kambing--Daun pep...   \n",
       "1  1 kg daging kambing bagian paha beserta tulang...   \n",
       "2  500 gram daging kambing--Bumbu :--sesuai seler...   \n",
       "3  1.5 kg tulang sumsum kambing(direbus dahulu)ag...   \n",
       "4  300 garam daging kambing--1/2 buah jeruk nipis...   \n",
       "5  4 kaki kambing--2-3 buah kentang, potpng dadu ...   \n",
       "6  Daging kambing ½ kg, potong-potong, lumuri den...   \n",
       "7  250 gram iga kambing / daging kambing--200 gra...   \n",
       "8  Otak kambing--2 butir telor ayam--Penyedap mas...   \n",
       "9  Bumbu daging--1 kg daging kambing--1,5 sdt ket...   \n",
       "\n",
       "                                               Steps  Loves  \\\n",
       "0  1. Cuci bersih daging kambing, potong\" kotak, ...      6   \n",
       "1  Tumis bumbu halus hingga harum. Masukan bumbu ...      6   \n",
       "2  Rebus dgng kambing dgn jahe krng lbh 20 menit ...      0   \n",
       "3  Haluskan bawang merah 5 siung dan 5 bawang put...      1   \n",
       "4  Potong daging kambing sesuai selera, beri pera...      7   \n",
       "5  Bakar kaki kambing utk menghilangkan bulu2 hal...      9   \n",
       "6  Tumis hingga harum bawang merah iris, bawang p...      1   \n",
       "7  Potong daging kambing sesuai selera, cuci bers...      9   \n",
       "8  Cuci otak. Kambing smpe bersih cuci semua bumb...      1   \n",
       "9  Potong2 daging lalu masukkan bumbu daging...di...      1   \n",
       "\n",
       "                                                 URL  \n",
       "0                     /id/resep/4470066-sate-kambing  \n",
       "1                    /id/resep/4469170-rabeg-kambing  \n",
       "2                    /id/resep/4467084-gulai-kambing  \n",
       "3             /id/resep/4458778-sayur-tulang-kambing  \n",
       "4                     /id/resep/4462884-sate-kambing  \n",
       "5                 /id/resep/4447258-sop-kaki-kambing  \n",
       "6           /id/resep/4376163-kari-kambing-ala-bundo  \n",
       "7          /id/resep/4442026-tongseng-kambing-presto  \n",
       "8         /id/resep/4435937-telor-dadar-otak-kambing  \n",
       "9  /id/resep/4415488-sate-kambing-siram-sambal-ba...  "
      ]
     },
     "execution_count": 5,
     "metadata": {},
     "output_type": "execute_result"
    }
   ],
   "source": [
    "kambing = pd.read_csv(\"dataset-kambing.csv\")\n",
    "kambing.head(10)"
   ]
  },
  {
   "cell_type": "markdown",
   "id": "6a659177-de20-4957-9fb8-0cf85b3f62b8",
   "metadata": {},
   "source": [
    "#### Dataset Sapi"
   ]
  },
  {
   "cell_type": "code",
   "execution_count": 6,
   "id": "a305ae39-a1a6-4a10-835e-1fbcd00c2cf8",
   "metadata": {},
   "outputs": [
    {
     "data": {
      "text/html": [
       "<div>\n",
       "<style scoped>\n",
       "    .dataframe tbody tr th:only-of-type {\n",
       "        vertical-align: middle;\n",
       "    }\n",
       "\n",
       "    .dataframe tbody tr th {\n",
       "        vertical-align: top;\n",
       "    }\n",
       "\n",
       "    .dataframe thead th {\n",
       "        text-align: right;\n",
       "    }\n",
       "</style>\n",
       "<table border=\"1\" class=\"dataframe\">\n",
       "  <thead>\n",
       "    <tr style=\"text-align: right;\">\n",
       "      <th></th>\n",
       "      <th>Title</th>\n",
       "      <th>Ingredients</th>\n",
       "      <th>Steps</th>\n",
       "      <th>Loves</th>\n",
       "      <th>URL</th>\n",
       "    </tr>\n",
       "  </thead>\n",
       "  <tbody>\n",
       "    <tr>\n",
       "      <th>0</th>\n",
       "      <td>Beef Teriyaki</td>\n",
       "      <td>250 gr daging sapi--1 siung bawang bombai--5 s...</td>\n",
       "      <td>Potong kecil-kecil memanjang daging sapi, lalu...</td>\n",
       "      <td>0</td>\n",
       "      <td>/id/resep/4473529-beef-teriyaki</td>\n",
       "    </tr>\n",
       "    <tr>\n",
       "      <th>1</th>\n",
       "      <td>Rendang Sapi</td>\n",
       "      <td>1 kg daging sapi--4 butir kelapa untuk 2L sant...</td>\n",
       "      <td>Potong daging berlawanan dari seratnya--Peras ...</td>\n",
       "      <td>1</td>\n",
       "      <td>/id/resep/4473035-rendang-sapi</td>\n",
       "    </tr>\n",
       "    <tr>\n",
       "      <th>2</th>\n",
       "      <td>Tongseng daging sapi pedas</td>\n",
       "      <td>300 gr daging sapi (iris tipis panjang)--Bumbu...</td>\n",
       "      <td>Tumis bumbu halus dengan sedikit minyak, tumis...</td>\n",
       "      <td>3</td>\n",
       "      <td>/id/resep/4472871-tongseng-daging-sapi-pedas</td>\n",
       "    </tr>\n",
       "    <tr>\n",
       "      <th>3</th>\n",
       "      <td>Semur Daging Sapi</td>\n",
       "      <td>1/2 kg daging sapi--1 biji bawang bombay--2 si...</td>\n",
       "      <td>Potong2 daging sesuai selera, cuci dan lumuri ...</td>\n",
       "      <td>0</td>\n",
       "      <td>/id/resep/4472987-semur-daging-sapi</td>\n",
       "    </tr>\n",
       "    <tr>\n",
       "      <th>4</th>\n",
       "      <td>Tongseng daging sapi</td>\n",
       "      <td>500 gram Daging sapi--Santan (boleh pakai kara...</td>\n",
       "      <td>Cuci daging sapi dan potong kecil-kecil sesuai...</td>\n",
       "      <td>2</td>\n",
       "      <td>/id/resep/4472530-tongseng-daging-sapi</td>\n",
       "    </tr>\n",
       "    <tr>\n",
       "      <th>5</th>\n",
       "      <td>Beef black pepper spaghetti</td>\n",
       "      <td>220 gram spaghetti la fonte, rebus sampai al d...</td>\n",
       "      <td>Setelah spaghetti al dente beri sedikit minyak...</td>\n",
       "      <td>5</td>\n",
       "      <td>/id/resep/4471729-beef-black-pepper-spaghetti</td>\n",
       "    </tr>\n",
       "    <tr>\n",
       "      <th>6</th>\n",
       "      <td>[Notitle]</td>\n",
       "      <td>NaN</td>\n",
       "      <td>NaN</td>\n",
       "      <td>0</td>\n",
       "      <td>/id/resep/4471696-brokoli-sapi-cah-paprika</td>\n",
       "    </tr>\n",
       "    <tr>\n",
       "      <th>7</th>\n",
       "      <td>Carbonara Linguine smooked beef</td>\n",
       "      <td>Pasta linguine (bisa pasta lain) sesuai selera...</td>\n",
       "      <td>Rebus pasta dengan sedikit garam lalu sisihkan...</td>\n",
       "      <td>1</td>\n",
       "      <td>/id/resep/4471643-carbonara-linguine-smooked-beef</td>\n",
       "    </tr>\n",
       "    <tr>\n",
       "      <th>8</th>\n",
       "      <td>Semur Jantung Sapi</td>\n",
       "      <td>1/5 kg jantung sapi--▪️bumbu halus ▪️--5 siung...</td>\n",
       "      <td>Potong-potong jantung sapi dan lumurkan delmon...</td>\n",
       "      <td>2</td>\n",
       "      <td>/id/resep/4469770-semur-jantung-sapi</td>\n",
       "    </tr>\n",
       "    <tr>\n",
       "      <th>9</th>\n",
       "      <td>Daging sapi cincang taousi cah buncis</td>\n",
       "      <td>1 ons daging sapi (cincang)--1/4 buncir atau k...</td>\n",
       "      <td>Cincang daging sapi di beri bumbu kecap asin m...</td>\n",
       "      <td>1</td>\n",
       "      <td>/id/resep/4469431-daging-sapi-cincang-taousi-c...</td>\n",
       "    </tr>\n",
       "  </tbody>\n",
       "</table>\n",
       "</div>"
      ],
      "text/plain": [
       "                                   Title  \\\n",
       "0                          Beef Teriyaki   \n",
       "1                           Rendang Sapi   \n",
       "2             Tongseng daging sapi pedas   \n",
       "3                      Semur Daging Sapi   \n",
       "4                   Tongseng daging sapi   \n",
       "5            Beef black pepper spaghetti   \n",
       "6                              [Notitle]   \n",
       "7        Carbonara Linguine smooked beef   \n",
       "8                     Semur Jantung Sapi   \n",
       "9  Daging sapi cincang taousi cah buncis   \n",
       "\n",
       "                                         Ingredients  \\\n",
       "0  250 gr daging sapi--1 siung bawang bombai--5 s...   \n",
       "1  1 kg daging sapi--4 butir kelapa untuk 2L sant...   \n",
       "2  300 gr daging sapi (iris tipis panjang)--Bumbu...   \n",
       "3  1/2 kg daging sapi--1 biji bawang bombay--2 si...   \n",
       "4  500 gram Daging sapi--Santan (boleh pakai kara...   \n",
       "5  220 gram spaghetti la fonte, rebus sampai al d...   \n",
       "6                                                NaN   \n",
       "7  Pasta linguine (bisa pasta lain) sesuai selera...   \n",
       "8  1/5 kg jantung sapi--▪️bumbu halus ▪️--5 siung...   \n",
       "9  1 ons daging sapi (cincang)--1/4 buncir atau k...   \n",
       "\n",
       "                                               Steps  Loves  \\\n",
       "0  Potong kecil-kecil memanjang daging sapi, lalu...      0   \n",
       "1  Potong daging berlawanan dari seratnya--Peras ...      1   \n",
       "2  Tumis bumbu halus dengan sedikit minyak, tumis...      3   \n",
       "3  Potong2 daging sesuai selera, cuci dan lumuri ...      0   \n",
       "4  Cuci daging sapi dan potong kecil-kecil sesuai...      2   \n",
       "5  Setelah spaghetti al dente beri sedikit minyak...      5   \n",
       "6                                                NaN      0   \n",
       "7  Rebus pasta dengan sedikit garam lalu sisihkan...      1   \n",
       "8  Potong-potong jantung sapi dan lumurkan delmon...      2   \n",
       "9  Cincang daging sapi di beri bumbu kecap asin m...      1   \n",
       "\n",
       "                                                 URL  \n",
       "0                    /id/resep/4473529-beef-teriyaki  \n",
       "1                     /id/resep/4473035-rendang-sapi  \n",
       "2       /id/resep/4472871-tongseng-daging-sapi-pedas  \n",
       "3                /id/resep/4472987-semur-daging-sapi  \n",
       "4             /id/resep/4472530-tongseng-daging-sapi  \n",
       "5      /id/resep/4471729-beef-black-pepper-spaghetti  \n",
       "6         /id/resep/4471696-brokoli-sapi-cah-paprika  \n",
       "7  /id/resep/4471643-carbonara-linguine-smooked-beef  \n",
       "8               /id/resep/4469770-semur-jantung-sapi  \n",
       "9  /id/resep/4469431-daging-sapi-cincang-taousi-c...  "
      ]
     },
     "execution_count": 6,
     "metadata": {},
     "output_type": "execute_result"
    }
   ],
   "source": [
    "sapi = pd.read_csv(\"dataset-sapi.csv\")\n",
    "sapi.head(10)"
   ]
  },
  {
   "cell_type": "markdown",
   "id": "e1600761-fc6b-4855-bd41-7e506a42cda4",
   "metadata": {},
   "source": [
    "#### Dataset Tahu"
   ]
  },
  {
   "cell_type": "code",
   "execution_count": 7,
   "id": "54715fe8-2dc5-4a52-b358-88391901d895",
   "metadata": {},
   "outputs": [
    {
     "data": {
      "text/html": [
       "<div>\n",
       "<style scoped>\n",
       "    .dataframe tbody tr th:only-of-type {\n",
       "        vertical-align: middle;\n",
       "    }\n",
       "\n",
       "    .dataframe tbody tr th {\n",
       "        vertical-align: top;\n",
       "    }\n",
       "\n",
       "    .dataframe thead th {\n",
       "        text-align: right;\n",
       "    }\n",
       "</style>\n",
       "<table border=\"1\" class=\"dataframe\">\n",
       "  <thead>\n",
       "    <tr style=\"text-align: right;\">\n",
       "      <th></th>\n",
       "      <th>Title</th>\n",
       "      <th>Ingredients</th>\n",
       "      <th>Steps</th>\n",
       "      <th>Loves</th>\n",
       "      <th>URL</th>\n",
       "    </tr>\n",
       "  </thead>\n",
       "  <tbody>\n",
       "    <tr>\n",
       "      <th>0</th>\n",
       "      <td>Martabak tahu pedas kulit lumpia</td>\n",
       "      <td>12 lembar kulit lumpia--4 buah tahu putih--2 b...</td>\n",
       "      <td>Haluskan tahu putih campur semua bahan kecuali...</td>\n",
       "      <td>7</td>\n",
       "      <td>/id/resep/4472701-martabak-tahu-pedas-kulit-lu...</td>\n",
       "    </tr>\n",
       "    <tr>\n",
       "      <th>1</th>\n",
       "      <td>Batagor (Bakso Tahu Goreng) ala rumahan anti g...</td>\n",
       "      <td>Bahan batagor--3 kotak ukuran kecil tahu kunin...</td>\n",
       "      <td>Haluskan tahu kuning, bawang putih, garam meri...</td>\n",
       "      <td>7</td>\n",
       "      <td>/id/resep/4473611-batagor-bakso-tahu-goreng-al...</td>\n",
       "    </tr>\n",
       "    <tr>\n",
       "      <th>2</th>\n",
       "      <td>Sayur Sutace (sop tahu ceker)</td>\n",
       "      <td>1/2 kg ceker ayam--4 buah wortel ukuran sedang...</td>\n",
       "      <td>Bersihkan ceker, lau rebut selama 3-4 menit pa...</td>\n",
       "      <td>5</td>\n",
       "      <td>/id/resep/4473647-sayur-sutace-sop-tahu-ceker</td>\n",
       "    </tr>\n",
       "    <tr>\n",
       "      <th>3</th>\n",
       "      <td>Sapo Tahu Ayam ala Mey👌</td>\n",
       "      <td>1 bks Tofu--5-10 bh filet ayam--1 bh wortel, i...</td>\n",
       "      <td>Iris tofu, jgn terlalu tipis, nanti hancur, go...</td>\n",
       "      <td>4</td>\n",
       "      <td>/id/resep/4473233-sapo-tahu-ayam-ala-mey%F0%9F...</td>\n",
       "    </tr>\n",
       "    <tr>\n",
       "      <th>4</th>\n",
       "      <td>TTKK (tahu telur timun tauge kuah kacang)</td>\n",
       "      <td>1 butir telur--1 tahu--secukupnya Timun--secuk...</td>\n",
       "      <td>Goreng tahu dan telur, rebus tauge.--Potong2 t...</td>\n",
       "      <td>0</td>\n",
       "      <td>/id/resep/4473231-ttkk-tahu-telur-timun-tauge-...</td>\n",
       "    </tr>\n",
       "    <tr>\n",
       "      <th>5</th>\n",
       "      <td>Perkedel Tahu Wortel Sederhana</td>\n",
       "      <td>1 bks tahu putih--1 batang wortel (potong keci...</td>\n",
       "      <td>Hancurkan tahu dalam baskom--Campurkan wortel ...</td>\n",
       "      <td>4</td>\n",
       "      <td>/id/resep/4473213-perkedel-tahu-wortel-sederhana</td>\n",
       "    </tr>\n",
       "    <tr>\n",
       "      <th>6</th>\n",
       "      <td>Kari tahu telur kentang</td>\n",
       "      <td>4 butir telur rebus--4 buah tahu, potong 8 bag...</td>\n",
       "      <td>Tumis bumbu halus dan rempah cemplung hingga h...</td>\n",
       "      <td>3</td>\n",
       "      <td>/id/resep/4471788-kari-tahu-telur-kentang</td>\n",
       "    </tr>\n",
       "    <tr>\n",
       "      <th>7</th>\n",
       "      <td>Sundubu Jjigae (sup tahu pedas ala2 korea)</td>\n",
       "      <td>1 bungkus tahu putih, potong2 besar--1/2 ons t...</td>\n",
       "      <td>Haluskan bumbu (blender).--Tumis bawang bombay...</td>\n",
       "      <td>7</td>\n",
       "      <td>/id/resep/4472974-sundubu-jjigae-sup-tahu-peda...</td>\n",
       "    </tr>\n",
       "    <tr>\n",
       "      <th>8</th>\n",
       "      <td>Nugget Tahu Ekonomis Anti Gagal</td>\n",
       "      <td>5 buah tahu(1kg an) sy: sekitar 700g--1 butir ...</td>\n",
       "      <td>Cuci tahu dan tiriskan. Agar saat digoreng tid...</td>\n",
       "      <td>9</td>\n",
       "      <td>/id/resep/4448501-nugget-tahu-ekonomis-anti-gagal</td>\n",
       "    </tr>\n",
       "    <tr>\n",
       "      <th>9</th>\n",
       "      <td>Tahu Petis musim ujan</td>\n",
       "      <td>1 sdm petis--2 bh cabe rawit,rajang--2 bwg pth...</td>\n",
       "      <td>Siapkan bahan2--Goreng tahu smp matang..sement...</td>\n",
       "      <td>9</td>\n",
       "      <td>/id/resep/4472947-tahu-petis-musim-ujan</td>\n",
       "    </tr>\n",
       "  </tbody>\n",
       "</table>\n",
       "</div>"
      ],
      "text/plain": [
       "                                               Title  \\\n",
       "0                   Martabak tahu pedas kulit lumpia   \n",
       "1  Batagor (Bakso Tahu Goreng) ala rumahan anti g...   \n",
       "2                      Sayur Sutace (sop tahu ceker)   \n",
       "3                            Sapo Tahu Ayam ala Mey👌   \n",
       "4          TTKK (tahu telur timun tauge kuah kacang)   \n",
       "5                     Perkedel Tahu Wortel Sederhana   \n",
       "6                            Kari tahu telur kentang   \n",
       "7         Sundubu Jjigae (sup tahu pedas ala2 korea)   \n",
       "8                    Nugget Tahu Ekonomis Anti Gagal   \n",
       "9                              Tahu Petis musim ujan   \n",
       "\n",
       "                                         Ingredients  \\\n",
       "0  12 lembar kulit lumpia--4 buah tahu putih--2 b...   \n",
       "1  Bahan batagor--3 kotak ukuran kecil tahu kunin...   \n",
       "2  1/2 kg ceker ayam--4 buah wortel ukuran sedang...   \n",
       "3  1 bks Tofu--5-10 bh filet ayam--1 bh wortel, i...   \n",
       "4  1 butir telur--1 tahu--secukupnya Timun--secuk...   \n",
       "5  1 bks tahu putih--1 batang wortel (potong keci...   \n",
       "6  4 butir telur rebus--4 buah tahu, potong 8 bag...   \n",
       "7  1 bungkus tahu putih, potong2 besar--1/2 ons t...   \n",
       "8  5 buah tahu(1kg an) sy: sekitar 700g--1 butir ...   \n",
       "9  1 sdm petis--2 bh cabe rawit,rajang--2 bwg pth...   \n",
       "\n",
       "                                               Steps  Loves  \\\n",
       "0  Haluskan tahu putih campur semua bahan kecuali...      7   \n",
       "1  Haluskan tahu kuning, bawang putih, garam meri...      7   \n",
       "2  Bersihkan ceker, lau rebut selama 3-4 menit pa...      5   \n",
       "3  Iris tofu, jgn terlalu tipis, nanti hancur, go...      4   \n",
       "4  Goreng tahu dan telur, rebus tauge.--Potong2 t...      0   \n",
       "5  Hancurkan tahu dalam baskom--Campurkan wortel ...      4   \n",
       "6  Tumis bumbu halus dan rempah cemplung hingga h...      3   \n",
       "7  Haluskan bumbu (blender).--Tumis bawang bombay...      7   \n",
       "8  Cuci tahu dan tiriskan. Agar saat digoreng tid...      9   \n",
       "9  Siapkan bahan2--Goreng tahu smp matang..sement...      9   \n",
       "\n",
       "                                                 URL  \n",
       "0  /id/resep/4472701-martabak-tahu-pedas-kulit-lu...  \n",
       "1  /id/resep/4473611-batagor-bakso-tahu-goreng-al...  \n",
       "2      /id/resep/4473647-sayur-sutace-sop-tahu-ceker  \n",
       "3  /id/resep/4473233-sapo-tahu-ayam-ala-mey%F0%9F...  \n",
       "4  /id/resep/4473231-ttkk-tahu-telur-timun-tauge-...  \n",
       "5   /id/resep/4473213-perkedel-tahu-wortel-sederhana  \n",
       "6          /id/resep/4471788-kari-tahu-telur-kentang  \n",
       "7  /id/resep/4472974-sundubu-jjigae-sup-tahu-peda...  \n",
       "8  /id/resep/4448501-nugget-tahu-ekonomis-anti-gagal  \n",
       "9            /id/resep/4472947-tahu-petis-musim-ujan  "
      ]
     },
     "execution_count": 7,
     "metadata": {},
     "output_type": "execute_result"
    }
   ],
   "source": [
    "tahu = pd.read_csv(\"dataset-tahu.csv\")\n",
    "tahu.head(10)"
   ]
  },
  {
   "cell_type": "markdown",
   "id": "0a12c5ae-55bd-41a7-b01c-8a842a5a863b",
   "metadata": {},
   "source": [
    "#### Dataset Telur "
   ]
  },
  {
   "cell_type": "code",
   "execution_count": 8,
   "id": "93f17089-23f1-4a26-81e8-64afa852e47b",
   "metadata": {},
   "outputs": [
    {
     "data": {
      "text/html": [
       "<div>\n",
       "<style scoped>\n",
       "    .dataframe tbody tr th:only-of-type {\n",
       "        vertical-align: middle;\n",
       "    }\n",
       "\n",
       "    .dataframe tbody tr th {\n",
       "        vertical-align: top;\n",
       "    }\n",
       "\n",
       "    .dataframe thead th {\n",
       "        text-align: right;\n",
       "    }\n",
       "</style>\n",
       "<table border=\"1\" class=\"dataframe\">\n",
       "  <thead>\n",
       "    <tr style=\"text-align: right;\">\n",
       "      <th></th>\n",
       "      <th>Title</th>\n",
       "      <th>Ingredients</th>\n",
       "      <th>Steps</th>\n",
       "      <th>Loves</th>\n",
       "      <th>URL</th>\n",
       "    </tr>\n",
       "  </thead>\n",
       "  <tbody>\n",
       "    <tr>\n",
       "      <th>0</th>\n",
       "      <td>Orak arik telur buncis</td>\n",
       "      <td>1 buah telur--10 buncis--3 bawang merah--2 baw...</td>\n",
       "      <td>Haluskan bawang merah, bawang putih dan cabai-...</td>\n",
       "      <td>1</td>\n",
       "      <td>/id/resep/4474114-orak-arik-telur-buncis</td>\n",
       "    </tr>\n",
       "    <tr>\n",
       "      <th>1</th>\n",
       "      <td>Terik ayam tempe telor</td>\n",
       "      <td>4 sayap ayam--4 buah telor--1/2 papan tempe--B...</td>\n",
       "      <td>Cuci sayap ayam kemudian sisihkan. Rebus telur...</td>\n",
       "      <td>6</td>\n",
       "      <td>/id/resep/4474066-terik-ayam-tempe-telor</td>\n",
       "    </tr>\n",
       "    <tr>\n",
       "      <th>2</th>\n",
       "      <td>Telur Kornet</td>\n",
       "      <td>1/2 kaleng kornet--2-3 buah bawang prei--2 bua...</td>\n",
       "      <td>Campur kornet, telur, bawang prei dan cabe yg ...</td>\n",
       "      <td>7</td>\n",
       "      <td>/id/resep/4473838-telur-kornet</td>\n",
       "    </tr>\n",
       "    <tr>\n",
       "      <th>3</th>\n",
       "      <td>Tahu telur surabaya</td>\n",
       "      <td>1 butir telur--1 potong tahu putih goreng sete...</td>\n",
       "      <td>Uleg kacang, cabai, bawang putih, gula merah, ...</td>\n",
       "      <td>10</td>\n",
       "      <td>/id/resep/4473784-tahu-telur-surabaya</td>\n",
       "    </tr>\n",
       "    <tr>\n",
       "      <th>4</th>\n",
       "      <td>Telur ceplok masak kecap</td>\n",
       "      <td>4 butir telur--4 siung bwng merah--2 siung bwn...</td>\n",
       "      <td>Ceplok telur lalu sisihkan--Iris tipis dua bwn...</td>\n",
       "      <td>0</td>\n",
       "      <td>/id/resep/4473512-telur-ceplok-masak-kecap</td>\n",
       "    </tr>\n",
       "    <tr>\n",
       "      <th>5</th>\n",
       "      <td>Sambal telur ayam</td>\n",
       "      <td>1/2 kg telur--6 cabe merah besar--10 cabe rawi...</td>\n",
       "      <td>Rebus telur lalu kupas dan goreng--Rebus cabe ...</td>\n",
       "      <td>6</td>\n",
       "      <td>/id/resep/4473513-sambal-telur-ayam</td>\n",
       "    </tr>\n",
       "    <tr>\n",
       "      <th>6</th>\n",
       "      <td>Telur Dadar Padang</td>\n",
       "      <td>3 btr telur ayam(lebih enak pakai telur bebek)...</td>\n",
       "      <td>Kocok telur sebentar saja,jika kelamaan telurn...</td>\n",
       "      <td>39</td>\n",
       "      <td>/id/resep/4473259-telur-dadar-padang</td>\n",
       "    </tr>\n",
       "    <tr>\n",
       "      <th>7</th>\n",
       "      <td>Ceplok Telor saus Asam Manis</td>\n",
       "      <td>2 btr telur--1 ruas wortel iris korek api--1 s...</td>\n",
       "      <td>Ceplok telur sisihkan--Tumis bwg putih n bwg b...</td>\n",
       "      <td>5</td>\n",
       "      <td>/id/resep/4472169-ceplok-telor-saus-asam-manis</td>\n",
       "    </tr>\n",
       "    <tr>\n",
       "      <th>8</th>\n",
       "      <td>Potatoes cheese with egg</td>\n",
       "      <td>250 gr kentang kupas dan potong bulat\" goreng ...</td>\n",
       "      <td>Siapkan cetak tahan panas olesi dgn mentega, u...</td>\n",
       "      <td>4</td>\n",
       "      <td>/id/resep/4473136-potatoes-cheese-with-egg</td>\n",
       "    </tr>\n",
       "    <tr>\n",
       "      <th>9</th>\n",
       "      <td>TTKK (tahu telur timun tauge kuah kacang)</td>\n",
       "      <td>1 butir telur--1 tahu--secukupnya Timun--secuk...</td>\n",
       "      <td>Goreng tahu dan telur, rebus tauge.--Potong2 t...</td>\n",
       "      <td>0</td>\n",
       "      <td>/id/resep/4473231-ttkk-tahu-telur-timun-tauge-...</td>\n",
       "    </tr>\n",
       "  </tbody>\n",
       "</table>\n",
       "</div>"
      ],
      "text/plain": [
       "                                       Title  \\\n",
       "0                     Orak arik telur buncis   \n",
       "1                     Terik ayam tempe telor   \n",
       "2                               Telur Kornet   \n",
       "3                        Tahu telur surabaya   \n",
       "4                   Telur ceplok masak kecap   \n",
       "5                          Sambal telur ayam   \n",
       "6                         Telur Dadar Padang   \n",
       "7               Ceplok Telor saus Asam Manis   \n",
       "8                   Potatoes cheese with egg   \n",
       "9  TTKK (tahu telur timun tauge kuah kacang)   \n",
       "\n",
       "                                         Ingredients  \\\n",
       "0  1 buah telur--10 buncis--3 bawang merah--2 baw...   \n",
       "1  4 sayap ayam--4 buah telor--1/2 papan tempe--B...   \n",
       "2  1/2 kaleng kornet--2-3 buah bawang prei--2 bua...   \n",
       "3  1 butir telur--1 potong tahu putih goreng sete...   \n",
       "4  4 butir telur--4 siung bwng merah--2 siung bwn...   \n",
       "5  1/2 kg telur--6 cabe merah besar--10 cabe rawi...   \n",
       "6  3 btr telur ayam(lebih enak pakai telur bebek)...   \n",
       "7  2 btr telur--1 ruas wortel iris korek api--1 s...   \n",
       "8  250 gr kentang kupas dan potong bulat\" goreng ...   \n",
       "9  1 butir telur--1 tahu--secukupnya Timun--secuk...   \n",
       "\n",
       "                                               Steps  Loves  \\\n",
       "0  Haluskan bawang merah, bawang putih dan cabai-...      1   \n",
       "1  Cuci sayap ayam kemudian sisihkan. Rebus telur...      6   \n",
       "2  Campur kornet, telur, bawang prei dan cabe yg ...      7   \n",
       "3  Uleg kacang, cabai, bawang putih, gula merah, ...     10   \n",
       "4  Ceplok telur lalu sisihkan--Iris tipis dua bwn...      0   \n",
       "5  Rebus telur lalu kupas dan goreng--Rebus cabe ...      6   \n",
       "6  Kocok telur sebentar saja,jika kelamaan telurn...     39   \n",
       "7  Ceplok telur sisihkan--Tumis bwg putih n bwg b...      5   \n",
       "8  Siapkan cetak tahan panas olesi dgn mentega, u...      4   \n",
       "9  Goreng tahu dan telur, rebus tauge.--Potong2 t...      0   \n",
       "\n",
       "                                                 URL  \n",
       "0           /id/resep/4474114-orak-arik-telur-buncis  \n",
       "1           /id/resep/4474066-terik-ayam-tempe-telor  \n",
       "2                     /id/resep/4473838-telur-kornet  \n",
       "3              /id/resep/4473784-tahu-telur-surabaya  \n",
       "4         /id/resep/4473512-telur-ceplok-masak-kecap  \n",
       "5                /id/resep/4473513-sambal-telur-ayam  \n",
       "6               /id/resep/4473259-telur-dadar-padang  \n",
       "7     /id/resep/4472169-ceplok-telor-saus-asam-manis  \n",
       "8         /id/resep/4473136-potatoes-cheese-with-egg  \n",
       "9  /id/resep/4473231-ttkk-tahu-telur-timun-tauge-...  "
      ]
     },
     "execution_count": 8,
     "metadata": {},
     "output_type": "execute_result"
    }
   ],
   "source": [
    "telur = pd.read_csv(\"dataset-telur.csv\")\n",
    "telur.head(10)"
   ]
  },
  {
   "cell_type": "markdown",
   "id": "a9eb6abb-42e8-4000-9eb9-c5620c13fe3b",
   "metadata": {},
   "source": [
    "#### Dataset Tempe"
   ]
  },
  {
   "cell_type": "code",
   "execution_count": 9,
   "id": "06ea6d7f-f161-4e4e-b93c-786f0ed5785e",
   "metadata": {},
   "outputs": [
    {
     "data": {
      "text/html": [
       "<div>\n",
       "<style scoped>\n",
       "    .dataframe tbody tr th:only-of-type {\n",
       "        vertical-align: middle;\n",
       "    }\n",
       "\n",
       "    .dataframe tbody tr th {\n",
       "        vertical-align: top;\n",
       "    }\n",
       "\n",
       "    .dataframe thead th {\n",
       "        text-align: right;\n",
       "    }\n",
       "</style>\n",
       "<table border=\"1\" class=\"dataframe\">\n",
       "  <thead>\n",
       "    <tr style=\"text-align: right;\">\n",
       "      <th></th>\n",
       "      <th>Title</th>\n",
       "      <th>Ingredients</th>\n",
       "      <th>Steps</th>\n",
       "      <th>Loves</th>\n",
       "      <th>URL</th>\n",
       "    </tr>\n",
       "  </thead>\n",
       "  <tbody>\n",
       "    <tr>\n",
       "      <th>0</th>\n",
       "      <td>Orek tempe manis pedas super simple</td>\n",
       "      <td>Tempe (saya beli 3000 saja)--3 buah cabe gendo...</td>\n",
       "      <td>Potong2 tempe sesuai selera lalu goreng sebent...</td>\n",
       "      <td>7</td>\n",
       "      <td>/id/resep/4474061-orek-tempe-manis-pedas-super...</td>\n",
       "    </tr>\n",
       "    <tr>\n",
       "      <th>1</th>\n",
       "      <td>Terik ayam tempe telor</td>\n",
       "      <td>4 sayap ayam--4 buah telor--1/2 papan tempe--B...</td>\n",
       "      <td>Cuci sayap ayam kemudian sisihkan. Rebus telur...</td>\n",
       "      <td>6</td>\n",
       "      <td>/id/resep/4474066-terik-ayam-tempe-telor</td>\n",
       "    </tr>\n",
       "    <tr>\n",
       "      <th>2</th>\n",
       "      <td>Penyet Tempe Sambel Korek Kemangi</td>\n",
       "      <td>2 buah tempe--1 genggam Daun kemangi--15 cabe ...</td>\n",
       "      <td>Iris tempe jd beberapa potong, bumbui dg bawan...</td>\n",
       "      <td>8</td>\n",
       "      <td>/id/resep/4473809-penyet-tempe-sambel-korek-ke...</td>\n",
       "    </tr>\n",
       "    <tr>\n",
       "      <th>3</th>\n",
       "      <td>Nugget tempe</td>\n",
       "      <td>1 papan tempe dihaluskan(saya kukus dlu)--1 bu...</td>\n",
       "      <td>Campur tempe,wortel,daun bawang &amp; bumbu yg sud...</td>\n",
       "      <td>8</td>\n",
       "      <td>/id/resep/4473715-nugget-tempe</td>\n",
       "    </tr>\n",
       "    <tr>\n",
       "      <th>4</th>\n",
       "      <td>Tempe tepung sajiku</td>\n",
       "      <td>1 potong tempe 3000--1 bngkus sajiku tepung se...</td>\n",
       "      <td>Potong tempe tipis2--Tuang tepung lalu beri ai...</td>\n",
       "      <td>1</td>\n",
       "      <td>/id/resep/4473463-tempe-tepung-sajiku</td>\n",
       "    </tr>\n",
       "    <tr>\n",
       "      <th>5</th>\n",
       "      <td>Patty Tempe</td>\n",
       "      <td>250 gram tempe, kukus, haluskan--150 gram dagi...</td>\n",
       "      <td>Ini tepung kobe putih yg sy pakai.--Campur sem...</td>\n",
       "      <td>9</td>\n",
       "      <td>/id/resep/4469642-patty-tempe</td>\n",
       "    </tr>\n",
       "    <tr>\n",
       "      <th>6</th>\n",
       "      <td>Orek tempe basah bumbu ulek (recook)</td>\n",
       "      <td>1 papan tempe, potong sesuai selera (sy 1/2 pa...</td>\n",
       "      <td>Goreng tempe setengah matang, angkat, tiriskan...</td>\n",
       "      <td>6</td>\n",
       "      <td>/id/resep/4473253-orek-tempe-basah-bumbu-ulek-...</td>\n",
       "    </tr>\n",
       "    <tr>\n",
       "      <th>7</th>\n",
       "      <td>Perkedel Tempe</td>\n",
       "      <td>1/2 potong papan tempe (haluskan dgn sedikit a...</td>\n",
       "      <td>Campurkan adonan tempe basah dengan bumbu halu...</td>\n",
       "      <td>1</td>\n",
       "      <td>/id/resep/4473022-perkedel-tempe</td>\n",
       "    </tr>\n",
       "    <tr>\n",
       "      <th>8</th>\n",
       "      <td>Perkedel Tempe</td>\n",
       "      <td>300 g tempe--1 butir telur, kocok lepas--1 btg...</td>\n",
       "      <td>Potong2 tempe, dan kukus selama 25 menit.--Hal...</td>\n",
       "      <td>11</td>\n",
       "      <td>/id/resep/4448262-perkedel-tempe</td>\n",
       "    </tr>\n",
       "    <tr>\n",
       "      <th>9</th>\n",
       "      <td>Nugget Tempe Simple</td>\n",
       "      <td>1 papan tempe--1 buah wortel--1 butir telur (k...</td>\n",
       "      <td>Haluskan bawang merah, bawang putih, merica, g...</td>\n",
       "      <td>6</td>\n",
       "      <td>/id/resep/4472907-nugget-tempe-simple</td>\n",
       "    </tr>\n",
       "  </tbody>\n",
       "</table>\n",
       "</div>"
      ],
      "text/plain": [
       "                                  Title  \\\n",
       "0   Orek tempe manis pedas super simple   \n",
       "1                Terik ayam tempe telor   \n",
       "2     Penyet Tempe Sambel Korek Kemangi   \n",
       "3                          Nugget tempe   \n",
       "4                   Tempe tepung sajiku   \n",
       "5                           Patty Tempe   \n",
       "6  Orek tempe basah bumbu ulek (recook)   \n",
       "7                        Perkedel Tempe   \n",
       "8                        Perkedel Tempe   \n",
       "9                   Nugget Tempe Simple   \n",
       "\n",
       "                                         Ingredients  \\\n",
       "0  Tempe (saya beli 3000 saja)--3 buah cabe gendo...   \n",
       "1  4 sayap ayam--4 buah telor--1/2 papan tempe--B...   \n",
       "2  2 buah tempe--1 genggam Daun kemangi--15 cabe ...   \n",
       "3  1 papan tempe dihaluskan(saya kukus dlu)--1 bu...   \n",
       "4  1 potong tempe 3000--1 bngkus sajiku tepung se...   \n",
       "5  250 gram tempe, kukus, haluskan--150 gram dagi...   \n",
       "6  1 papan tempe, potong sesuai selera (sy 1/2 pa...   \n",
       "7  1/2 potong papan tempe (haluskan dgn sedikit a...   \n",
       "8  300 g tempe--1 butir telur, kocok lepas--1 btg...   \n",
       "9  1 papan tempe--1 buah wortel--1 butir telur (k...   \n",
       "\n",
       "                                               Steps  Loves  \\\n",
       "0  Potong2 tempe sesuai selera lalu goreng sebent...      7   \n",
       "1  Cuci sayap ayam kemudian sisihkan. Rebus telur...      6   \n",
       "2  Iris tempe jd beberapa potong, bumbui dg bawan...      8   \n",
       "3  Campur tempe,wortel,daun bawang & bumbu yg sud...      8   \n",
       "4  Potong tempe tipis2--Tuang tepung lalu beri ai...      1   \n",
       "5  Ini tepung kobe putih yg sy pakai.--Campur sem...      9   \n",
       "6  Goreng tempe setengah matang, angkat, tiriskan...      6   \n",
       "7  Campurkan adonan tempe basah dengan bumbu halu...      1   \n",
       "8  Potong2 tempe, dan kukus selama 25 menit.--Hal...     11   \n",
       "9  Haluskan bawang merah, bawang putih, merica, g...      6   \n",
       "\n",
       "                                                 URL  \n",
       "0  /id/resep/4474061-orek-tempe-manis-pedas-super...  \n",
       "1           /id/resep/4474066-terik-ayam-tempe-telor  \n",
       "2  /id/resep/4473809-penyet-tempe-sambel-korek-ke...  \n",
       "3                     /id/resep/4473715-nugget-tempe  \n",
       "4              /id/resep/4473463-tempe-tepung-sajiku  \n",
       "5                      /id/resep/4469642-patty-tempe  \n",
       "6  /id/resep/4473253-orek-tempe-basah-bumbu-ulek-...  \n",
       "7                   /id/resep/4473022-perkedel-tempe  \n",
       "8                   /id/resep/4448262-perkedel-tempe  \n",
       "9              /id/resep/4472907-nugget-tempe-simple  "
      ]
     },
     "execution_count": 9,
     "metadata": {},
     "output_type": "execute_result"
    }
   ],
   "source": [
    "tempe = pd.read_csv(\"dataset-tempe.csv\")\n",
    "tempe.head(10)"
   ]
  },
  {
   "cell_type": "markdown",
   "id": "812cb933-bbe8-4f02-84b2-e238a506d4cc",
   "metadata": {},
   "source": [
    "#### Dataset Udang"
   ]
  },
  {
   "cell_type": "code",
   "execution_count": 10,
   "id": "bd51ceae-8281-4ecf-8256-78a420c7a69f",
   "metadata": {},
   "outputs": [
    {
     "data": {
      "text/html": [
       "<div>\n",
       "<style scoped>\n",
       "    .dataframe tbody tr th:only-of-type {\n",
       "        vertical-align: middle;\n",
       "    }\n",
       "\n",
       "    .dataframe tbody tr th {\n",
       "        vertical-align: top;\n",
       "    }\n",
       "\n",
       "    .dataframe thead th {\n",
       "        text-align: right;\n",
       "    }\n",
       "</style>\n",
       "<table border=\"1\" class=\"dataframe\">\n",
       "  <thead>\n",
       "    <tr style=\"text-align: right;\">\n",
       "      <th></th>\n",
       "      <th>Title</th>\n",
       "      <th>Ingredients</th>\n",
       "      <th>Steps</th>\n",
       "      <th>Loves</th>\n",
       "      <th>URL</th>\n",
       "    </tr>\n",
       "  </thead>\n",
       "  <tbody>\n",
       "    <tr>\n",
       "      <th>0</th>\n",
       "      <td>Lumpia udang kulit tahu ala fe'</td>\n",
       "      <td>50 gram ayam potong kotak kecil--200 gram udan...</td>\n",
       "      <td>Campur ayam &amp; udang dengan semua bumbu &amp; daun ...</td>\n",
       "      <td>4</td>\n",
       "      <td>/id/resep/4448366-lumpia-udang-kulit-tahu-ala-fe</td>\n",
       "    </tr>\n",
       "    <tr>\n",
       "      <th>1</th>\n",
       "      <td>Bakso Ayam Udang Keto</td>\n",
       "      <td>400 gr ayam giling--250 gr udang kupas--3 telu...</td>\n",
       "      <td>Campur semua bahan dalam food processor, kecua...</td>\n",
       "      <td>2</td>\n",
       "      <td>/id/resep/4474544-bakso-ayam-udang-keto</td>\n",
       "    </tr>\n",
       "    <tr>\n",
       "      <th>2</th>\n",
       "      <td>Udang ala pop corn</td>\n",
       "      <td>1/4 kg udang basah ukuran sedang--1 bungkus ko...</td>\n",
       "      <td>Buang kepala dan cangkang udang.--Cuci bersih ...</td>\n",
       "      <td>2</td>\n",
       "      <td>/id/resep/4418156-udang-ala-pop-corn</td>\n",
       "    </tr>\n",
       "    <tr>\n",
       "      <th>3</th>\n",
       "      <td>Bakwan Udang Sederhana</td>\n",
       "      <td>1/2 kg Tepung terigu (sudah di ayak)--1/2 Udan...</td>\n",
       "      <td>Haluskan bawang putih, garam, picin dan merica...</td>\n",
       "      <td>0</td>\n",
       "      <td>/id/resep/4475500-bakwan-udang-sederhana</td>\n",
       "    </tr>\n",
       "    <tr>\n",
       "      <th>4</th>\n",
       "      <td>Udang Goreng Tepung Mayonaise</td>\n",
       "      <td>300 gr udang (buang kepalanya)--Jeruk nipis--T...</td>\n",
       "      <td>Cuci bersih udang, tambahkan jeruk nipis supay...</td>\n",
       "      <td>6</td>\n",
       "      <td>/id/resep/4474156-udang-goreng-tepung-mayonaise</td>\n",
       "    </tr>\n",
       "    <tr>\n",
       "      <th>5</th>\n",
       "      <td>Udang saus asam manis</td>\n",
       "      <td>1 Kg Udang mutiara--7 siung bawang merah--4 si...</td>\n",
       "      <td>Iris bawang merah, bawang putih, jahe, lengkua...</td>\n",
       "      <td>0</td>\n",
       "      <td>/id/resep/4443123-udang-saus-asam-manis</td>\n",
       "    </tr>\n",
       "    <tr>\n",
       "      <th>6</th>\n",
       "      <td>Tekwan Kuah Udang</td>\n",
       "      <td>Untuk Tekwan :--1/4 ekor ikan tenggiri 🌸--2 bu...</td>\n",
       "      <td>Untuk membuat tekwan, rebus air dengan 2sdm mi...</td>\n",
       "      <td>5</td>\n",
       "      <td>/id/resep/4464484-tekwan-kuah-udang</td>\n",
       "    </tr>\n",
       "    <tr>\n",
       "      <th>7</th>\n",
       "      <td>Sambal udang goreng</td>\n",
       "      <td>1/4 kg udang--2 buah jeruk nipis--Minyak goren...</td>\n",
       "      <td>Cuci udang bersih, lumuri dengan jeruk nipis--...</td>\n",
       "      <td>7</td>\n",
       "      <td>/id/resep/4474006-sambal-udang-goreng</td>\n",
       "    </tr>\n",
       "    <tr>\n",
       "      <th>8</th>\n",
       "      <td>Udang asam manis oregano</td>\n",
       "      <td>1/2 kg udang vaname--1 bh bawang bombai--2 siu...</td>\n",
       "      <td>Bersihkan udang dan cuci dengan air garam, iri...</td>\n",
       "      <td>3</td>\n",
       "      <td>/id/resep/4473599-udang-asam-manis-oregano</td>\n",
       "    </tr>\n",
       "    <tr>\n",
       "      <th>9</th>\n",
       "      <td>Tumis buncis pakai udang</td>\n",
       "      <td>1/4 kg Buncis (iris serong)--4 bh bawang putih...</td>\n",
       "      <td>Tumis bawang putih sampai harum, masukan udang...</td>\n",
       "      <td>5</td>\n",
       "      <td>/id/resep/4473387-tumis-buncis-pakai-udang</td>\n",
       "    </tr>\n",
       "  </tbody>\n",
       "</table>\n",
       "</div>"
      ],
      "text/plain": [
       "                             Title  \\\n",
       "0  Lumpia udang kulit tahu ala fe'   \n",
       "1            Bakso Ayam Udang Keto   \n",
       "2               Udang ala pop corn   \n",
       "3           Bakwan Udang Sederhana   \n",
       "4    Udang Goreng Tepung Mayonaise   \n",
       "5            Udang saus asam manis   \n",
       "6                Tekwan Kuah Udang   \n",
       "7              Sambal udang goreng   \n",
       "8         Udang asam manis oregano   \n",
       "9         Tumis buncis pakai udang   \n",
       "\n",
       "                                         Ingredients  \\\n",
       "0  50 gram ayam potong kotak kecil--200 gram udan...   \n",
       "1  400 gr ayam giling--250 gr udang kupas--3 telu...   \n",
       "2  1/4 kg udang basah ukuran sedang--1 bungkus ko...   \n",
       "3  1/2 kg Tepung terigu (sudah di ayak)--1/2 Udan...   \n",
       "4  300 gr udang (buang kepalanya)--Jeruk nipis--T...   \n",
       "5  1 Kg Udang mutiara--7 siung bawang merah--4 si...   \n",
       "6  Untuk Tekwan :--1/4 ekor ikan tenggiri 🌸--2 bu...   \n",
       "7  1/4 kg udang--2 buah jeruk nipis--Minyak goren...   \n",
       "8  1/2 kg udang vaname--1 bh bawang bombai--2 siu...   \n",
       "9  1/4 kg Buncis (iris serong)--4 bh bawang putih...   \n",
       "\n",
       "                                               Steps  Loves  \\\n",
       "0  Campur ayam & udang dengan semua bumbu & daun ...      4   \n",
       "1  Campur semua bahan dalam food processor, kecua...      2   \n",
       "2  Buang kepala dan cangkang udang.--Cuci bersih ...      2   \n",
       "3  Haluskan bawang putih, garam, picin dan merica...      0   \n",
       "4  Cuci bersih udang, tambahkan jeruk nipis supay...      6   \n",
       "5  Iris bawang merah, bawang putih, jahe, lengkua...      0   \n",
       "6  Untuk membuat tekwan, rebus air dengan 2sdm mi...      5   \n",
       "7  Cuci udang bersih, lumuri dengan jeruk nipis--...      7   \n",
       "8  Bersihkan udang dan cuci dengan air garam, iri...      3   \n",
       "9  Tumis bawang putih sampai harum, masukan udang...      5   \n",
       "\n",
       "                                                URL  \n",
       "0  /id/resep/4448366-lumpia-udang-kulit-tahu-ala-fe  \n",
       "1           /id/resep/4474544-bakso-ayam-udang-keto  \n",
       "2              /id/resep/4418156-udang-ala-pop-corn  \n",
       "3          /id/resep/4475500-bakwan-udang-sederhana  \n",
       "4   /id/resep/4474156-udang-goreng-tepung-mayonaise  \n",
       "5           /id/resep/4443123-udang-saus-asam-manis  \n",
       "6               /id/resep/4464484-tekwan-kuah-udang  \n",
       "7             /id/resep/4474006-sambal-udang-goreng  \n",
       "8        /id/resep/4473599-udang-asam-manis-oregano  \n",
       "9        /id/resep/4473387-tumis-buncis-pakai-udang  "
      ]
     },
     "execution_count": 10,
     "metadata": {},
     "output_type": "execute_result"
    }
   ],
   "source": [
    "udang = pd.read_csv(\"dataset-udang.csv\")\n",
    "udang.head(10)"
   ]
  },
  {
   "cell_type": "markdown",
   "id": "e80bb109-9200-4c62-a33d-0cbfe071e176",
   "metadata": {},
   "source": [
    "## Assesing Data"
   ]
  },
  {
   "cell_type": "markdown",
   "id": "199fd2a7-e94f-4b74-9b55-67fc78a98e93",
   "metadata": {},
   "source": [
    "#### Dataset Ayam"
   ]
  },
  {
   "cell_type": "code",
   "execution_count": 11,
   "id": "af7e1542-89b8-4760-8bb1-0942a6127fdf",
   "metadata": {},
   "outputs": [
    {
     "name": "stdout",
     "output_type": "stream",
     "text": [
      "<class 'pandas.core.frame.DataFrame'>\n",
      "RangeIndex: 1916 entries, 0 to 1915\n",
      "Data columns (total 5 columns):\n",
      " #   Column       Non-Null Count  Dtype \n",
      "---  ------       --------------  ----- \n",
      " 0   Title        1916 non-null   object\n",
      " 1   Ingredients  1901 non-null   object\n",
      " 2   Steps        1901 non-null   object\n",
      " 3   Loves        1916 non-null   int64 \n",
      " 4   URL          1916 non-null   object\n",
      "dtypes: int64(1), object(4)\n",
      "memory usage: 75.0+ KB\n"
     ]
    }
   ],
   "source": [
    "ayam.info()"
   ]
  },
  {
   "cell_type": "code",
   "execution_count": 20,
   "id": "4aa592b1-3584-4f06-9090-83641934ff50",
   "metadata": {},
   "outputs": [
    {
     "data": {
      "text/plain": [
       "Title           0\n",
       "Ingredients    15\n",
       "Steps          15\n",
       "Loves           0\n",
       "URL             0\n",
       "dtype: int64"
      ]
     },
     "execution_count": 20,
     "metadata": {},
     "output_type": "execute_result"
    }
   ],
   "source": [
    "ayam.isna().sum()"
   ]
  },
  {
   "cell_type": "code",
   "execution_count": 21,
   "id": "ad1d2a4e-7e4f-4e7f-b08b-dd8bb15aeff0",
   "metadata": {},
   "outputs": [
    {
     "name": "stdout",
     "output_type": "stream",
     "text": [
      "Jumlah Duplikasi data :  0\n"
     ]
    },
    {
     "data": {
      "text/html": [
       "<div>\n",
       "<style scoped>\n",
       "    .dataframe tbody tr th:only-of-type {\n",
       "        vertical-align: middle;\n",
       "    }\n",
       "\n",
       "    .dataframe tbody tr th {\n",
       "        vertical-align: top;\n",
       "    }\n",
       "\n",
       "    .dataframe thead th {\n",
       "        text-align: right;\n",
       "    }\n",
       "</style>\n",
       "<table border=\"1\" class=\"dataframe\">\n",
       "  <thead>\n",
       "    <tr style=\"text-align: right;\">\n",
       "      <th></th>\n",
       "      <th>Loves</th>\n",
       "    </tr>\n",
       "  </thead>\n",
       "  <tbody>\n",
       "    <tr>\n",
       "      <th>count</th>\n",
       "      <td>1916.000000</td>\n",
       "    </tr>\n",
       "    <tr>\n",
       "      <th>mean</th>\n",
       "      <td>11.407098</td>\n",
       "    </tr>\n",
       "    <tr>\n",
       "      <th>std</th>\n",
       "      <td>20.010786</td>\n",
       "    </tr>\n",
       "    <tr>\n",
       "      <th>min</th>\n",
       "      <td>0.000000</td>\n",
       "    </tr>\n",
       "    <tr>\n",
       "      <th>25%</th>\n",
       "      <td>3.000000</td>\n",
       "    </tr>\n",
       "    <tr>\n",
       "      <th>50%</th>\n",
       "      <td>6.000000</td>\n",
       "    </tr>\n",
       "    <tr>\n",
       "      <th>75%</th>\n",
       "      <td>10.000000</td>\n",
       "    </tr>\n",
       "    <tr>\n",
       "      <th>max</th>\n",
       "      <td>237.000000</td>\n",
       "    </tr>\n",
       "  </tbody>\n",
       "</table>\n",
       "</div>"
      ],
      "text/plain": [
       "             Loves\n",
       "count  1916.000000\n",
       "mean     11.407098\n",
       "std      20.010786\n",
       "min       0.000000\n",
       "25%       3.000000\n",
       "50%       6.000000\n",
       "75%      10.000000\n",
       "max     237.000000"
      ]
     },
     "execution_count": 21,
     "metadata": {},
     "output_type": "execute_result"
    }
   ],
   "source": [
    "print(\"Jumlah Duplikasi data : \" ,ayam.duplicated().sum())\n",
    "ayam.describe()"
   ]
  },
  {
   "cell_type": "markdown",
   "id": "19bf290c-42c4-4f63-bd12-6973282bf074",
   "metadata": {},
   "source": [
    "#### Dataset Ikan"
   ]
  },
  {
   "cell_type": "code",
   "execution_count": 12,
   "id": "d68719bb-ca30-46f7-826b-95f39cc05a8a",
   "metadata": {},
   "outputs": [
    {
     "name": "stdout",
     "output_type": "stream",
     "text": [
      "<class 'pandas.core.frame.DataFrame'>\n",
      "RangeIndex: 1932 entries, 0 to 1931\n",
      "Data columns (total 5 columns):\n",
      " #   Column       Non-Null Count  Dtype \n",
      "---  ------       --------------  ----- \n",
      " 0   Title        1932 non-null   object\n",
      " 1   Ingredients  1932 non-null   object\n",
      " 2   Steps        1932 non-null   object\n",
      " 3   Loves        1932 non-null   int64 \n",
      " 4   URL          1932 non-null   object\n",
      "dtypes: int64(1), object(4)\n",
      "memory usage: 75.6+ KB\n"
     ]
    }
   ],
   "source": [
    "ikan.info()"
   ]
  },
  {
   "cell_type": "code",
   "execution_count": 22,
   "id": "0ddf99d1-26ba-4c66-ba7c-5cfa5ed3c277",
   "metadata": {},
   "outputs": [
    {
     "data": {
      "text/plain": [
       "Title          0\n",
       "Ingredients    0\n",
       "Steps          0\n",
       "Loves          0\n",
       "URL            0\n",
       "dtype: int64"
      ]
     },
     "execution_count": 22,
     "metadata": {},
     "output_type": "execute_result"
    }
   ],
   "source": [
    "ikan.isna().sum()"
   ]
  },
  {
   "cell_type": "code",
   "execution_count": 23,
   "id": "ed143a06-a8bf-49c3-8d7a-84ba5de721af",
   "metadata": {},
   "outputs": [
    {
     "name": "stdout",
     "output_type": "stream",
     "text": [
      "Jumlah Duplikasi data :  0\n"
     ]
    },
    {
     "data": {
      "text/html": [
       "<div>\n",
       "<style scoped>\n",
       "    .dataframe tbody tr th:only-of-type {\n",
       "        vertical-align: middle;\n",
       "    }\n",
       "\n",
       "    .dataframe tbody tr th {\n",
       "        vertical-align: top;\n",
       "    }\n",
       "\n",
       "    .dataframe thead th {\n",
       "        text-align: right;\n",
       "    }\n",
       "</style>\n",
       "<table border=\"1\" class=\"dataframe\">\n",
       "  <thead>\n",
       "    <tr style=\"text-align: right;\">\n",
       "      <th></th>\n",
       "      <th>Loves</th>\n",
       "    </tr>\n",
       "  </thead>\n",
       "  <tbody>\n",
       "    <tr>\n",
       "      <th>count</th>\n",
       "      <td>1932.000000</td>\n",
       "    </tr>\n",
       "    <tr>\n",
       "      <th>mean</th>\n",
       "      <td>10.574017</td>\n",
       "    </tr>\n",
       "    <tr>\n",
       "      <th>std</th>\n",
       "      <td>19.607944</td>\n",
       "    </tr>\n",
       "    <tr>\n",
       "      <th>min</th>\n",
       "      <td>0.000000</td>\n",
       "    </tr>\n",
       "    <tr>\n",
       "      <th>25%</th>\n",
       "      <td>3.000000</td>\n",
       "    </tr>\n",
       "    <tr>\n",
       "      <th>50%</th>\n",
       "      <td>6.000000</td>\n",
       "    </tr>\n",
       "    <tr>\n",
       "      <th>75%</th>\n",
       "      <td>10.000000</td>\n",
       "    </tr>\n",
       "    <tr>\n",
       "      <th>max</th>\n",
       "      <td>516.000000</td>\n",
       "    </tr>\n",
       "  </tbody>\n",
       "</table>\n",
       "</div>"
      ],
      "text/plain": [
       "             Loves\n",
       "count  1932.000000\n",
       "mean     10.574017\n",
       "std      19.607944\n",
       "min       0.000000\n",
       "25%       3.000000\n",
       "50%       6.000000\n",
       "75%      10.000000\n",
       "max     516.000000"
      ]
     },
     "execution_count": 23,
     "metadata": {},
     "output_type": "execute_result"
    }
   ],
   "source": [
    "print(\"Jumlah Duplikasi data : \" ,ikan.duplicated().sum())\n",
    "ikan.describe()"
   ]
  },
  {
   "cell_type": "markdown",
   "id": "6efb1a6c-4e14-45cf-986a-6f8cecfb2fd0",
   "metadata": {},
   "source": [
    "#### Dataset Kambing"
   ]
  },
  {
   "cell_type": "code",
   "execution_count": 13,
   "id": "779a9343-9e9c-4dc9-bbed-b14b4f9330e1",
   "metadata": {},
   "outputs": [
    {
     "name": "stdout",
     "output_type": "stream",
     "text": [
      "<class 'pandas.core.frame.DataFrame'>\n",
      "RangeIndex: 1896 entries, 0 to 1895\n",
      "Data columns (total 5 columns):\n",
      " #   Column       Non-Null Count  Dtype \n",
      "---  ------       --------------  ----- \n",
      " 0   Title        1896 non-null   object\n",
      " 1   Ingredients  1883 non-null   object\n",
      " 2   Steps        1883 non-null   object\n",
      " 3   Loves        1896 non-null   int64 \n",
      " 4   URL          1896 non-null   object\n",
      "dtypes: int64(1), object(4)\n",
      "memory usage: 74.2+ KB\n"
     ]
    }
   ],
   "source": [
    "kambing.info()"
   ]
  },
  {
   "cell_type": "code",
   "execution_count": 25,
   "id": "7633242e-0c76-4ded-9f12-31be2ca745e9",
   "metadata": {},
   "outputs": [
    {
     "data": {
      "text/plain": [
       "Title           0\n",
       "Ingredients    13\n",
       "Steps          13\n",
       "Loves           0\n",
       "URL             0\n",
       "dtype: int64"
      ]
     },
     "execution_count": 25,
     "metadata": {},
     "output_type": "execute_result"
    }
   ],
   "source": [
    "kambing.isna().sum()"
   ]
  },
  {
   "cell_type": "code",
   "execution_count": 26,
   "id": "f2b31d9a-22d9-4034-91b9-5a2b4f63e11a",
   "metadata": {},
   "outputs": [
    {
     "name": "stdout",
     "output_type": "stream",
     "text": [
      "Jumlah Duplikasi data :  0\n"
     ]
    },
    {
     "data": {
      "text/html": [
       "<div>\n",
       "<style scoped>\n",
       "    .dataframe tbody tr th:only-of-type {\n",
       "        vertical-align: middle;\n",
       "    }\n",
       "\n",
       "    .dataframe tbody tr th {\n",
       "        vertical-align: top;\n",
       "    }\n",
       "\n",
       "    .dataframe thead th {\n",
       "        text-align: right;\n",
       "    }\n",
       "</style>\n",
       "<table border=\"1\" class=\"dataframe\">\n",
       "  <thead>\n",
       "    <tr style=\"text-align: right;\">\n",
       "      <th></th>\n",
       "      <th>Loves</th>\n",
       "    </tr>\n",
       "  </thead>\n",
       "  <tbody>\n",
       "    <tr>\n",
       "      <th>count</th>\n",
       "      <td>1896.000000</td>\n",
       "    </tr>\n",
       "    <tr>\n",
       "      <th>mean</th>\n",
       "      <td>11.791139</td>\n",
       "    </tr>\n",
       "    <tr>\n",
       "      <th>std</th>\n",
       "      <td>21.785150</td>\n",
       "    </tr>\n",
       "    <tr>\n",
       "      <th>min</th>\n",
       "      <td>0.000000</td>\n",
       "    </tr>\n",
       "    <tr>\n",
       "      <th>25%</th>\n",
       "      <td>2.000000</td>\n",
       "    </tr>\n",
       "    <tr>\n",
       "      <th>50%</th>\n",
       "      <td>6.000000</td>\n",
       "    </tr>\n",
       "    <tr>\n",
       "      <th>75%</th>\n",
       "      <td>13.000000</td>\n",
       "    </tr>\n",
       "    <tr>\n",
       "      <th>max</th>\n",
       "      <td>355.000000</td>\n",
       "    </tr>\n",
       "  </tbody>\n",
       "</table>\n",
       "</div>"
      ],
      "text/plain": [
       "             Loves\n",
       "count  1896.000000\n",
       "mean     11.791139\n",
       "std      21.785150\n",
       "min       0.000000\n",
       "25%       2.000000\n",
       "50%       6.000000\n",
       "75%      13.000000\n",
       "max     355.000000"
      ]
     },
     "execution_count": 26,
     "metadata": {},
     "output_type": "execute_result"
    }
   ],
   "source": [
    "print(\"Jumlah Duplikasi data : \" ,kambing.duplicated().sum())\n",
    "kambing.describe()"
   ]
  },
  {
   "cell_type": "markdown",
   "id": "1bb42afe-3c3f-4da2-9dc2-16f52dc583a4",
   "metadata": {},
   "source": [
    "#### Dataset Sapi"
   ]
  },
  {
   "cell_type": "code",
   "execution_count": 14,
   "id": "7d4705c5-6d23-45ed-a7f1-b78719175ef4",
   "metadata": {},
   "outputs": [
    {
     "name": "stdout",
     "output_type": "stream",
     "text": [
      "<class 'pandas.core.frame.DataFrame'>\n",
      "RangeIndex: 1958 entries, 0 to 1957\n",
      "Data columns (total 5 columns):\n",
      " #   Column       Non-Null Count  Dtype \n",
      "---  ------       --------------  ----- \n",
      " 0   Title        1958 non-null   object\n",
      " 1   Ingredients  1942 non-null   object\n",
      " 2   Steps        1942 non-null   object\n",
      " 3   Loves        1958 non-null   int64 \n",
      " 4   URL          1958 non-null   object\n",
      "dtypes: int64(1), object(4)\n",
      "memory usage: 76.6+ KB\n"
     ]
    }
   ],
   "source": [
    "sapi.info()"
   ]
  },
  {
   "cell_type": "code",
   "execution_count": 27,
   "id": "7b2ebdc2-8cfd-4694-a7a8-721c9f01bcb8",
   "metadata": {},
   "outputs": [
    {
     "data": {
      "text/plain": [
       "Title           0\n",
       "Ingredients    16\n",
       "Steps          16\n",
       "Loves           0\n",
       "URL             0\n",
       "dtype: int64"
      ]
     },
     "execution_count": 27,
     "metadata": {},
     "output_type": "execute_result"
    }
   ],
   "source": [
    "sapi.isna().sum()"
   ]
  },
  {
   "cell_type": "code",
   "execution_count": 28,
   "id": "a73d8106-1113-4892-8a74-0f7f2aaf8ba9",
   "metadata": {},
   "outputs": [
    {
     "name": "stdout",
     "output_type": "stream",
     "text": [
      "Jumlah Duplikasi data :  0\n"
     ]
    },
    {
     "data": {
      "text/html": [
       "<div>\n",
       "<style scoped>\n",
       "    .dataframe tbody tr th:only-of-type {\n",
       "        vertical-align: middle;\n",
       "    }\n",
       "\n",
       "    .dataframe tbody tr th {\n",
       "        vertical-align: top;\n",
       "    }\n",
       "\n",
       "    .dataframe thead th {\n",
       "        text-align: right;\n",
       "    }\n",
       "</style>\n",
       "<table border=\"1\" class=\"dataframe\">\n",
       "  <thead>\n",
       "    <tr style=\"text-align: right;\">\n",
       "      <th></th>\n",
       "      <th>Loves</th>\n",
       "    </tr>\n",
       "  </thead>\n",
       "  <tbody>\n",
       "    <tr>\n",
       "      <th>count</th>\n",
       "      <td>1958.000000</td>\n",
       "    </tr>\n",
       "    <tr>\n",
       "      <th>mean</th>\n",
       "      <td>15.546476</td>\n",
       "    </tr>\n",
       "    <tr>\n",
       "      <th>std</th>\n",
       "      <td>31.791005</td>\n",
       "    </tr>\n",
       "    <tr>\n",
       "      <th>min</th>\n",
       "      <td>0.000000</td>\n",
       "    </tr>\n",
       "    <tr>\n",
       "      <th>25%</th>\n",
       "      <td>4.000000</td>\n",
       "    </tr>\n",
       "    <tr>\n",
       "      <th>50%</th>\n",
       "      <td>8.000000</td>\n",
       "    </tr>\n",
       "    <tr>\n",
       "      <th>75%</th>\n",
       "      <td>15.000000</td>\n",
       "    </tr>\n",
       "    <tr>\n",
       "      <th>max</th>\n",
       "      <td>939.000000</td>\n",
       "    </tr>\n",
       "  </tbody>\n",
       "</table>\n",
       "</div>"
      ],
      "text/plain": [
       "             Loves\n",
       "count  1958.000000\n",
       "mean     15.546476\n",
       "std      31.791005\n",
       "min       0.000000\n",
       "25%       4.000000\n",
       "50%       8.000000\n",
       "75%      15.000000\n",
       "max     939.000000"
      ]
     },
     "execution_count": 28,
     "metadata": {},
     "output_type": "execute_result"
    }
   ],
   "source": [
    "print(\"Jumlah Duplikasi data : \" ,sapi.duplicated().sum())\n",
    "sapi.describe()"
   ]
  },
  {
   "cell_type": "markdown",
   "id": "fefc04aa-735f-4d2d-bc17-bcd23b4bc50d",
   "metadata": {},
   "source": [
    "#### Dataset Tahu"
   ]
  },
  {
   "cell_type": "code",
   "execution_count": 15,
   "id": "9bfd1c4f-d05c-4bc7-accd-8bc39b7e5cf2",
   "metadata": {},
   "outputs": [
    {
     "name": "stdout",
     "output_type": "stream",
     "text": [
      "<class 'pandas.core.frame.DataFrame'>\n",
      "RangeIndex: 1985 entries, 0 to 1984\n",
      "Data columns (total 5 columns):\n",
      " #   Column       Non-Null Count  Dtype \n",
      "---  ------       --------------  ----- \n",
      " 0   Title        1985 non-null   object\n",
      " 1   Ingredients  1984 non-null   object\n",
      " 2   Steps        1985 non-null   object\n",
      " 3   Loves        1985 non-null   int64 \n",
      " 4   URL          1985 non-null   object\n",
      "dtypes: int64(1), object(4)\n",
      "memory usage: 77.7+ KB\n"
     ]
    }
   ],
   "source": [
    "tahu.info()"
   ]
  },
  {
   "cell_type": "code",
   "execution_count": 29,
   "id": "70e16cfd-c9de-47a4-895d-cd71846a585c",
   "metadata": {},
   "outputs": [
    {
     "data": {
      "text/plain": [
       "Title          0\n",
       "Ingredients    1\n",
       "Steps          0\n",
       "Loves          0\n",
       "URL            0\n",
       "dtype: int64"
      ]
     },
     "execution_count": 29,
     "metadata": {},
     "output_type": "execute_result"
    }
   ],
   "source": [
    "tahu.isna().sum()"
   ]
  },
  {
   "cell_type": "code",
   "execution_count": 30,
   "id": "42377fdd-6d4c-4657-a7a0-431a5b3d6dd0",
   "metadata": {},
   "outputs": [
    {
     "name": "stdout",
     "output_type": "stream",
     "text": [
      "Jumlah Duplikasi data :  0\n"
     ]
    },
    {
     "data": {
      "text/html": [
       "<div>\n",
       "<style scoped>\n",
       "    .dataframe tbody tr th:only-of-type {\n",
       "        vertical-align: middle;\n",
       "    }\n",
       "\n",
       "    .dataframe tbody tr th {\n",
       "        vertical-align: top;\n",
       "    }\n",
       "\n",
       "    .dataframe thead th {\n",
       "        text-align: right;\n",
       "    }\n",
       "</style>\n",
       "<table border=\"1\" class=\"dataframe\">\n",
       "  <thead>\n",
       "    <tr style=\"text-align: right;\">\n",
       "      <th></th>\n",
       "      <th>Loves</th>\n",
       "    </tr>\n",
       "  </thead>\n",
       "  <tbody>\n",
       "    <tr>\n",
       "      <th>count</th>\n",
       "      <td>1985.000000</td>\n",
       "    </tr>\n",
       "    <tr>\n",
       "      <th>mean</th>\n",
       "      <td>10.388413</td>\n",
       "    </tr>\n",
       "    <tr>\n",
       "      <th>std</th>\n",
       "      <td>18.985159</td>\n",
       "    </tr>\n",
       "    <tr>\n",
       "      <th>min</th>\n",
       "      <td>0.000000</td>\n",
       "    </tr>\n",
       "    <tr>\n",
       "      <th>25%</th>\n",
       "      <td>3.000000</td>\n",
       "    </tr>\n",
       "    <tr>\n",
       "      <th>50%</th>\n",
       "      <td>6.000000</td>\n",
       "    </tr>\n",
       "    <tr>\n",
       "      <th>75%</th>\n",
       "      <td>10.000000</td>\n",
       "    </tr>\n",
       "    <tr>\n",
       "      <th>max</th>\n",
       "      <td>481.000000</td>\n",
       "    </tr>\n",
       "  </tbody>\n",
       "</table>\n",
       "</div>"
      ],
      "text/plain": [
       "             Loves\n",
       "count  1985.000000\n",
       "mean     10.388413\n",
       "std      18.985159\n",
       "min       0.000000\n",
       "25%       3.000000\n",
       "50%       6.000000\n",
       "75%      10.000000\n",
       "max     481.000000"
      ]
     },
     "execution_count": 30,
     "metadata": {},
     "output_type": "execute_result"
    }
   ],
   "source": [
    "print(\"Jumlah Duplikasi data : \" ,tahu.duplicated().sum())\n",
    "tahu.describe()"
   ]
  },
  {
   "cell_type": "markdown",
   "id": "a8798149-49e1-40c4-aa18-af3b4358557c",
   "metadata": {},
   "source": [
    "#### Dataset Telur "
   ]
  },
  {
   "cell_type": "code",
   "execution_count": 16,
   "id": "f1b48025-a0d2-465a-9544-0b4bb854cffd",
   "metadata": {},
   "outputs": [
    {
     "name": "stdout",
     "output_type": "stream",
     "text": [
      "<class 'pandas.core.frame.DataFrame'>\n",
      "RangeIndex: 1974 entries, 0 to 1973\n",
      "Data columns (total 5 columns):\n",
      " #   Column       Non-Null Count  Dtype \n",
      "---  ------       --------------  ----- \n",
      " 0   Title        1974 non-null   object\n",
      " 1   Ingredients  1972 non-null   object\n",
      " 2   Steps        1972 non-null   object\n",
      " 3   Loves        1974 non-null   int64 \n",
      " 4   URL          1974 non-null   object\n",
      "dtypes: int64(1), object(4)\n",
      "memory usage: 77.2+ KB\n"
     ]
    }
   ],
   "source": [
    "telur.info()"
   ]
  },
  {
   "cell_type": "code",
   "execution_count": 31,
   "id": "bb2d7263-e597-45ba-a627-4578bd617193",
   "metadata": {},
   "outputs": [
    {
     "data": {
      "text/plain": [
       "Title          0\n",
       "Ingredients    2\n",
       "Steps          2\n",
       "Loves          0\n",
       "URL            0\n",
       "dtype: int64"
      ]
     },
     "execution_count": 31,
     "metadata": {},
     "output_type": "execute_result"
    }
   ],
   "source": [
    "telur.isna().sum()"
   ]
  },
  {
   "cell_type": "code",
   "execution_count": 32,
   "id": "6e54e617-5c46-46e4-9161-6c0a3f9860f5",
   "metadata": {},
   "outputs": [
    {
     "name": "stdout",
     "output_type": "stream",
     "text": [
      "Jumlah Duplikasi data :  0\n"
     ]
    },
    {
     "data": {
      "text/html": [
       "<div>\n",
       "<style scoped>\n",
       "    .dataframe tbody tr th:only-of-type {\n",
       "        vertical-align: middle;\n",
       "    }\n",
       "\n",
       "    .dataframe tbody tr th {\n",
       "        vertical-align: top;\n",
       "    }\n",
       "\n",
       "    .dataframe thead th {\n",
       "        text-align: right;\n",
       "    }\n",
       "</style>\n",
       "<table border=\"1\" class=\"dataframe\">\n",
       "  <thead>\n",
       "    <tr style=\"text-align: right;\">\n",
       "      <th></th>\n",
       "      <th>Loves</th>\n",
       "    </tr>\n",
       "  </thead>\n",
       "  <tbody>\n",
       "    <tr>\n",
       "      <th>count</th>\n",
       "      <td>1974.000000</td>\n",
       "    </tr>\n",
       "    <tr>\n",
       "      <th>mean</th>\n",
       "      <td>12.231003</td>\n",
       "    </tr>\n",
       "    <tr>\n",
       "      <th>std</th>\n",
       "      <td>19.930730</td>\n",
       "    </tr>\n",
       "    <tr>\n",
       "      <th>min</th>\n",
       "      <td>0.000000</td>\n",
       "    </tr>\n",
       "    <tr>\n",
       "      <th>25%</th>\n",
       "      <td>4.000000</td>\n",
       "    </tr>\n",
       "    <tr>\n",
       "      <th>50%</th>\n",
       "      <td>6.000000</td>\n",
       "    </tr>\n",
       "    <tr>\n",
       "      <th>75%</th>\n",
       "      <td>11.000000</td>\n",
       "    </tr>\n",
       "    <tr>\n",
       "      <th>max</th>\n",
       "      <td>301.000000</td>\n",
       "    </tr>\n",
       "  </tbody>\n",
       "</table>\n",
       "</div>"
      ],
      "text/plain": [
       "             Loves\n",
       "count  1974.000000\n",
       "mean     12.231003\n",
       "std      19.930730\n",
       "min       0.000000\n",
       "25%       4.000000\n",
       "50%       6.000000\n",
       "75%      11.000000\n",
       "max     301.000000"
      ]
     },
     "execution_count": 32,
     "metadata": {},
     "output_type": "execute_result"
    }
   ],
   "source": [
    "print(\"Jumlah Duplikasi data : \" ,telur.duplicated().sum())\n",
    "telur.describe()"
   ]
  },
  {
   "cell_type": "markdown",
   "id": "0d2bf763-4a46-43dc-975a-eb0b92d141d1",
   "metadata": {},
   "source": [
    "#### Dataset Tempe"
   ]
  },
  {
   "cell_type": "code",
   "execution_count": 17,
   "id": "7e8aabec-e014-44c6-8053-0c104f703146",
   "metadata": {},
   "outputs": [
    {
     "name": "stdout",
     "output_type": "stream",
     "text": [
      "<class 'pandas.core.frame.DataFrame'>\n",
      "RangeIndex: 1986 entries, 0 to 1985\n",
      "Data columns (total 5 columns):\n",
      " #   Column       Non-Null Count  Dtype \n",
      "---  ------       --------------  ----- \n",
      " 0   Title        1986 non-null   object\n",
      " 1   Ingredients  1985 non-null   object\n",
      " 2   Steps        1986 non-null   object\n",
      " 3   Loves        1986 non-null   int64 \n",
      " 4   URL          1986 non-null   object\n",
      "dtypes: int64(1), object(4)\n",
      "memory usage: 77.7+ KB\n"
     ]
    }
   ],
   "source": [
    "tempe.info()"
   ]
  },
  {
   "cell_type": "code",
   "execution_count": 33,
   "id": "21e6d8e9-5578-45d1-a5d4-b5ec2d5b9597",
   "metadata": {},
   "outputs": [
    {
     "data": {
      "text/plain": [
       "Title          0\n",
       "Ingredients    1\n",
       "Steps          0\n",
       "Loves          0\n",
       "URL            0\n",
       "dtype: int64"
      ]
     },
     "execution_count": 33,
     "metadata": {},
     "output_type": "execute_result"
    }
   ],
   "source": [
    "tempe.isna().sum()"
   ]
  },
  {
   "cell_type": "code",
   "execution_count": 34,
   "id": "92dcc35a-1ed0-4381-8b53-74d9f7e85735",
   "metadata": {},
   "outputs": [
    {
     "name": "stdout",
     "output_type": "stream",
     "text": [
      "Jumlah Duplikasi data :  0\n"
     ]
    },
    {
     "data": {
      "text/html": [
       "<div>\n",
       "<style scoped>\n",
       "    .dataframe tbody tr th:only-of-type {\n",
       "        vertical-align: middle;\n",
       "    }\n",
       "\n",
       "    .dataframe tbody tr th {\n",
       "        vertical-align: top;\n",
       "    }\n",
       "\n",
       "    .dataframe thead th {\n",
       "        text-align: right;\n",
       "    }\n",
       "</style>\n",
       "<table border=\"1\" class=\"dataframe\">\n",
       "  <thead>\n",
       "    <tr style=\"text-align: right;\">\n",
       "      <th></th>\n",
       "      <th>Loves</th>\n",
       "    </tr>\n",
       "  </thead>\n",
       "  <tbody>\n",
       "    <tr>\n",
       "      <th>count</th>\n",
       "      <td>1986.000000</td>\n",
       "    </tr>\n",
       "    <tr>\n",
       "      <th>mean</th>\n",
       "      <td>11.516113</td>\n",
       "    </tr>\n",
       "    <tr>\n",
       "      <th>std</th>\n",
       "      <td>21.362530</td>\n",
       "    </tr>\n",
       "    <tr>\n",
       "      <th>min</th>\n",
       "      <td>0.000000</td>\n",
       "    </tr>\n",
       "    <tr>\n",
       "      <th>25%</th>\n",
       "      <td>3.000000</td>\n",
       "    </tr>\n",
       "    <tr>\n",
       "      <th>50%</th>\n",
       "      <td>6.000000</td>\n",
       "    </tr>\n",
       "    <tr>\n",
       "      <th>75%</th>\n",
       "      <td>10.000000</td>\n",
       "    </tr>\n",
       "    <tr>\n",
       "      <th>max</th>\n",
       "      <td>452.000000</td>\n",
       "    </tr>\n",
       "  </tbody>\n",
       "</table>\n",
       "</div>"
      ],
      "text/plain": [
       "             Loves\n",
       "count  1986.000000\n",
       "mean     11.516113\n",
       "std      21.362530\n",
       "min       0.000000\n",
       "25%       3.000000\n",
       "50%       6.000000\n",
       "75%      10.000000\n",
       "max     452.000000"
      ]
     },
     "execution_count": 34,
     "metadata": {},
     "output_type": "execute_result"
    }
   ],
   "source": [
    "print(\"Jumlah Duplikasi data : \" ,tempe.duplicated().sum())\n",
    "tempe.describe()"
   ]
  },
  {
   "cell_type": "markdown",
   "id": "46f40bf7-0b20-43c4-90b3-5c45258daacb",
   "metadata": {},
   "source": [
    "#### Dataset Udang"
   ]
  },
  {
   "cell_type": "code",
   "execution_count": 18,
   "id": "399e81dd-6923-4d8d-8958-a0f4616d4293",
   "metadata": {},
   "outputs": [
    {
     "name": "stdout",
     "output_type": "stream",
     "text": [
      "<class 'pandas.core.frame.DataFrame'>\n",
      "RangeIndex: 1994 entries, 0 to 1993\n",
      "Data columns (total 5 columns):\n",
      " #   Column       Non-Null Count  Dtype \n",
      "---  ------       --------------  ----- \n",
      " 0   Title        1994 non-null   object\n",
      " 1   Ingredients  1994 non-null   object\n",
      " 2   Steps        1994 non-null   object\n",
      " 3   Loves        1994 non-null   int64 \n",
      " 4   URL          1994 non-null   object\n",
      "dtypes: int64(1), object(4)\n",
      "memory usage: 78.0+ KB\n"
     ]
    }
   ],
   "source": [
    "udang.info()"
   ]
  },
  {
   "cell_type": "code",
   "execution_count": 35,
   "id": "d3cf2bcd-f33c-4420-9edd-e07b03a2836a",
   "metadata": {},
   "outputs": [
    {
     "data": {
      "text/plain": [
       "Title          0\n",
       "Ingredients    0\n",
       "Steps          0\n",
       "Loves          0\n",
       "URL            0\n",
       "dtype: int64"
      ]
     },
     "execution_count": 35,
     "metadata": {},
     "output_type": "execute_result"
    }
   ],
   "source": [
    "udang.isna().sum()"
   ]
  },
  {
   "cell_type": "code",
   "execution_count": 36,
   "id": "f5d26b23-91a8-410b-ac11-1f9ae06bf4cf",
   "metadata": {},
   "outputs": [
    {
     "name": "stdout",
     "output_type": "stream",
     "text": [
      "Jumlah Duplikasi data :  0\n"
     ]
    },
    {
     "data": {
      "text/html": [
       "<div>\n",
       "<style scoped>\n",
       "    .dataframe tbody tr th:only-of-type {\n",
       "        vertical-align: middle;\n",
       "    }\n",
       "\n",
       "    .dataframe tbody tr th {\n",
       "        vertical-align: top;\n",
       "    }\n",
       "\n",
       "    .dataframe thead th {\n",
       "        text-align: right;\n",
       "    }\n",
       "</style>\n",
       "<table border=\"1\" class=\"dataframe\">\n",
       "  <thead>\n",
       "    <tr style=\"text-align: right;\">\n",
       "      <th></th>\n",
       "      <th>Loves</th>\n",
       "    </tr>\n",
       "  </thead>\n",
       "  <tbody>\n",
       "    <tr>\n",
       "      <th>count</th>\n",
       "      <td>1994.000000</td>\n",
       "    </tr>\n",
       "    <tr>\n",
       "      <th>mean</th>\n",
       "      <td>10.531093</td>\n",
       "    </tr>\n",
       "    <tr>\n",
       "      <th>std</th>\n",
       "      <td>14.475208</td>\n",
       "    </tr>\n",
       "    <tr>\n",
       "      <th>min</th>\n",
       "      <td>0.000000</td>\n",
       "    </tr>\n",
       "    <tr>\n",
       "      <th>25%</th>\n",
       "      <td>3.000000</td>\n",
       "    </tr>\n",
       "    <tr>\n",
       "      <th>50%</th>\n",
       "      <td>6.000000</td>\n",
       "    </tr>\n",
       "    <tr>\n",
       "      <th>75%</th>\n",
       "      <td>11.000000</td>\n",
       "    </tr>\n",
       "    <tr>\n",
       "      <th>max</th>\n",
       "      <td>249.000000</td>\n",
       "    </tr>\n",
       "  </tbody>\n",
       "</table>\n",
       "</div>"
      ],
      "text/plain": [
       "             Loves\n",
       "count  1994.000000\n",
       "mean     10.531093\n",
       "std      14.475208\n",
       "min       0.000000\n",
       "25%       3.000000\n",
       "50%       6.000000\n",
       "75%      11.000000\n",
       "max     249.000000"
      ]
     },
     "execution_count": 36,
     "metadata": {},
     "output_type": "execute_result"
    }
   ],
   "source": [
    "print(\"Jumlah Duplikasi data : \" ,udang.duplicated().sum())\n",
    "udang.describe()"
   ]
  },
  {
   "cell_type": "markdown",
   "id": "4c9ee178-3e89-426a-8452-e65f06ff9ff2",
   "metadata": {},
   "source": [
    "## Cleaning Data"
   ]
  },
  {
   "cell_type": "code",
   "execution_count": null,
   "id": "471f8aa5-693e-4040-8f5d-d5ca2540cf5e",
   "metadata": {},
   "outputs": [],
   "source": []
  },
  {
   "cell_type": "markdown",
   "id": "1fb9db09-d278-4567-ab51-b898c63bee76",
   "metadata": {},
   "source": [
    "#### Dataset Ayam"
   ]
  },
  {
   "cell_type": "code",
   "execution_count": null,
   "id": "cb4bae1a-9e6e-4dd6-9075-90b2f6f0acce",
   "metadata": {},
   "outputs": [],
   "source": []
  },
  {
   "cell_type": "markdown",
   "id": "f01681eb-9c53-41e2-8826-cbb4dc100f9a",
   "metadata": {},
   "source": [
    "#### Dataset Ikan"
   ]
  },
  {
   "cell_type": "code",
   "execution_count": null,
   "id": "520bd711-1c7a-440a-a3a3-e303a6557971",
   "metadata": {},
   "outputs": [],
   "source": []
  },
  {
   "cell_type": "markdown",
   "id": "8915dc9f-ae4b-464d-a3f1-a1e8095ced2a",
   "metadata": {},
   "source": [
    "#### Dataset Kambing"
   ]
  },
  {
   "cell_type": "code",
   "execution_count": null,
   "id": "ece99855-549e-46d3-b65d-b53931d92d50",
   "metadata": {},
   "outputs": [],
   "source": []
  },
  {
   "cell_type": "markdown",
   "id": "ed21b1b1-bd85-4a0e-84c2-0dba776c7f62",
   "metadata": {},
   "source": [
    "#### Dataset Sapi"
   ]
  },
  {
   "cell_type": "code",
   "execution_count": null,
   "id": "dc31c051-f834-4ea4-bce9-aa97ad189674",
   "metadata": {},
   "outputs": [],
   "source": []
  },
  {
   "cell_type": "markdown",
   "id": "3be88d3e-a244-4917-a287-64b2f19f6f5c",
   "metadata": {},
   "source": [
    "#### Dataset Tahu"
   ]
  },
  {
   "cell_type": "code",
   "execution_count": null,
   "id": "645176f9-0670-4ead-9286-37ce96a37e9d",
   "metadata": {},
   "outputs": [],
   "source": []
  },
  {
   "cell_type": "markdown",
   "id": "6235f1e6-624d-499c-a31c-3a520588ee7e",
   "metadata": {},
   "source": [
    "#### Dataset Telur"
   ]
  },
  {
   "cell_type": "code",
   "execution_count": null,
   "id": "315537ea-ca9c-49a0-b638-28da05de3365",
   "metadata": {},
   "outputs": [],
   "source": []
  },
  {
   "cell_type": "markdown",
   "id": "2d7dad5a-d1b3-4042-a41c-1166d14ab550",
   "metadata": {},
   "source": [
    "#### Dataset Tempe"
   ]
  },
  {
   "cell_type": "code",
   "execution_count": null,
   "id": "8ecfaafc-30f4-4dfd-9244-8ca6dd5b7d06",
   "metadata": {},
   "outputs": [],
   "source": []
  },
  {
   "cell_type": "markdown",
   "id": "ea40e899-a97d-4e0e-9a66-55171896f608",
   "metadata": {},
   "source": [
    "#### Dataset Udang"
   ]
  },
  {
   "cell_type": "code",
   "execution_count": null,
   "id": "3362ea62-eeaa-4f02-92e2-6c25ce170de2",
   "metadata": {},
   "outputs": [],
   "source": []
  },
  {
   "cell_type": "markdown",
   "id": "2c6a3e15-5586-4d86-8a06-8f2bc4ca1ee4",
   "metadata": {},
   "source": [
    "## Exploraty Data Analist (EDA)"
   ]
  },
  {
   "cell_type": "markdown",
   "id": "ca223a8f-a2bb-4b59-8707-4682beff163c",
   "metadata": {},
   "source": [
    "#### Dataset Ayam"
   ]
  },
  {
   "cell_type": "code",
   "execution_count": null,
   "id": "6dcc1868-738c-4a1d-bfcf-d0044f279130",
   "metadata": {},
   "outputs": [],
   "source": []
  },
  {
   "cell_type": "markdown",
   "id": "1fc7006a-1e3b-4e9e-99db-44d7b9fe26ed",
   "metadata": {},
   "source": [
    "#### Dataset Ikan"
   ]
  },
  {
   "cell_type": "code",
   "execution_count": null,
   "id": "f014d1b2-f59b-4bac-a3fd-2c1738a3dad7",
   "metadata": {},
   "outputs": [],
   "source": []
  },
  {
   "cell_type": "markdown",
   "id": "f1cd0f0c-8800-4324-a2d2-7c7a82c863a0",
   "metadata": {},
   "source": [
    "#### Dataset Kambing"
   ]
  },
  {
   "cell_type": "code",
   "execution_count": null,
   "id": "1a72675a-0e87-4953-9a25-29f3a7dd8e6a",
   "metadata": {},
   "outputs": [],
   "source": []
  },
  {
   "cell_type": "markdown",
   "id": "fe08e735-e155-4574-8db5-214a3c858f53",
   "metadata": {},
   "source": [
    "#### Dataset Sapi"
   ]
  },
  {
   "cell_type": "code",
   "execution_count": null,
   "id": "4c7c77b3-518a-40d6-90d5-7f2c42a4e30a",
   "metadata": {},
   "outputs": [],
   "source": []
  },
  {
   "cell_type": "markdown",
   "id": "1e3b725d-3dd7-47fe-b133-70e72ade13de",
   "metadata": {},
   "source": [
    "#### Dataset Tahu"
   ]
  },
  {
   "cell_type": "code",
   "execution_count": null,
   "id": "acc9b39b-c6dc-4e6d-baf5-93cf999388c8",
   "metadata": {},
   "outputs": [],
   "source": []
  },
  {
   "cell_type": "markdown",
   "id": "bb1dba23-3011-49f9-8968-7b24c0101b3c",
   "metadata": {},
   "source": [
    "#### Dataset Telur"
   ]
  },
  {
   "cell_type": "code",
   "execution_count": null,
   "id": "7e07846f-6a28-499c-8ca6-50ee4df742eb",
   "metadata": {},
   "outputs": [],
   "source": []
  },
  {
   "cell_type": "markdown",
   "id": "d99cb7d9-dca1-424e-93c9-1c5f184b4eff",
   "metadata": {},
   "source": [
    "#### Dataset Tempe"
   ]
  },
  {
   "cell_type": "code",
   "execution_count": null,
   "id": "89063546-86fc-4cfa-9603-f9bca786ebb6",
   "metadata": {},
   "outputs": [],
   "source": []
  },
  {
   "cell_type": "markdown",
   "id": "e3f2c838-e7ff-4abf-b95d-f02f359fee26",
   "metadata": {},
   "source": [
    "#### Dataset Udang"
   ]
  },
  {
   "cell_type": "code",
   "execution_count": null,
   "id": "8d1e6519-902e-47bb-83e9-d1ae9a534c65",
   "metadata": {},
   "outputs": [],
   "source": []
  }
 ],
 "metadata": {
  "kernelspec": {
   "display_name": "Python 3 (ipykernel)",
   "language": "python",
   "name": "python3"
  },
  "language_info": {
   "codemirror_mode": {
    "name": "ipython",
    "version": 3
   },
   "file_extension": ".py",
   "mimetype": "text/x-python",
   "name": "python",
   "nbconvert_exporter": "python",
   "pygments_lexer": "ipython3",
   "version": "3.12.4"
  }
 },
 "nbformat": 4,
 "nbformat_minor": 5
}
